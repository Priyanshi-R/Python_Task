{
 "cells": [
  {
   "cell_type": "markdown",
   "id": "6b1c8c5b",
   "metadata": {},
   "source": [
    "## DAY - 11"
   ]
  },
  {
   "cell_type": "markdown",
   "id": "6b637650",
   "metadata": {},
   "source": [
    "Q1)Write Python Code to print these patterns "
   ]
  },
  {
   "cell_type": "markdown",
   "id": "d19bc29e",
   "metadata": {},
   "source": [
    "A)"
   ]
  },
  {
   "cell_type": "code",
   "execution_count": 1,
   "id": "97e9f7fd",
   "metadata": {},
   "outputs": [
    {
     "name": "stdout",
     "output_type": "stream",
     "text": [
      "enter no. of rows:5\n",
      "* \n",
      "* * \n",
      "* * * \n",
      "* * * * \n",
      "* * * * * \n"
     ]
    }
   ],
   "source": [
    "n = int(input(\"enter no. of rows:\")) \n",
    "for i in range(n): \n",
    "    for j in range(i+1): \n",
    "        print('*', end=' ')\n",
    "    print()"
   ]
  },
  {
   "cell_type": "markdown",
   "id": "f32ec328",
   "metadata": {},
   "source": [
    "B)"
   ]
  },
  {
   "cell_type": "code",
   "execution_count": 2,
   "id": "69d4f32c",
   "metadata": {},
   "outputs": [
    {
     "name": "stdout",
     "output_type": "stream",
     "text": [
      "enter no. of rows:5\n",
      "1\n",
      "22\n",
      "333\n",
      "4444\n",
      "55555\n"
     ]
    }
   ],
   "source": [
    "n = int(input(\"enter no. of rows:\"))\n",
    "\n",
    "for i in range(1, n + 1):\n",
    "    for j in range(i):\n",
    "        print(i, end='')\n",
    "    print()\n"
   ]
  },
  {
   "cell_type": "markdown",
   "id": "22397029",
   "metadata": {},
   "source": [
    "C)"
   ]
  },
  {
   "cell_type": "code",
   "execution_count": 3,
   "id": "9c9c23f8",
   "metadata": {},
   "outputs": [
    {
     "name": "stdout",
     "output_type": "stream",
     "text": [
      "enter no. of rows:5\n",
      "1\n",
      "12\n",
      "123\n",
      "1234\n",
      "12345\n"
     ]
    }
   ],
   "source": [
    "n = int(input(\"enter no. of rows:\"))\n",
    "\n",
    "for i in range(1, n + 1):\n",
    "    for j in range(1, i + 1):\n",
    "        print(j, end='')\n",
    "    print()"
   ]
  },
  {
   "cell_type": "markdown",
   "id": "9354d521",
   "metadata": {},
   "source": [
    "D)"
   ]
  },
  {
   "cell_type": "code",
   "execution_count": 6,
   "id": "a0461865",
   "metadata": {},
   "outputs": [
    {
     "name": "stdout",
     "output_type": "stream",
     "text": [
      "enter no. of rows:5\n",
      "2\n",
      "34\n",
      "567\n",
      "891011\n",
      "1213141516\n"
     ]
    }
   ],
   "source": [
    "n = int(input(\"enter no. of rows:\"))\n",
    "num = 2\n",
    "\n",
    "for i in range(1, n + 1):\n",
    "    for j in range(i):\n",
    "        print(num, end='')\n",
    "        num += 1\n",
    "    print()\n"
   ]
  },
  {
   "cell_type": "markdown",
   "id": "c3cd31ac",
   "metadata": {},
   "source": [
    "E)"
   ]
  },
  {
   "cell_type": "code",
   "execution_count": 9,
   "id": "cd6639e7",
   "metadata": {},
   "outputs": [
    {
     "name": "stdout",
     "output_type": "stream",
     "text": [
      "enter no. of rows:5\n",
      "1\n",
      "01\n",
      "101\n",
      "0101\n",
      "10101\n"
     ]
    }
   ],
   "source": [
    "n = int(input(\"enter no. of rows:\"))\n",
    "\n",
    "for i in range(1, n + 1):\n",
    "    for j in range(i):\n",
    "        if (i + j) % 2 == 0:\n",
    "            print(\"0\", end='')\n",
    "        else:\n",
    "            print(\"1\", end='')\n",
    "    print()\n"
   ]
  },
  {
   "cell_type": "markdown",
   "id": "eda36a28",
   "metadata": {},
   "source": [
    "F)"
   ]
  },
  {
   "cell_type": "code",
   "execution_count": 11,
   "id": "61e926a9",
   "metadata": {},
   "outputs": [
    {
     "name": "stdout",
     "output_type": "stream",
     "text": [
      "enter no. of rows:5\n",
      "1\n",
      "23\n",
      "456\n",
      "78910\n",
      "1112131415\n"
     ]
    }
   ],
   "source": [
    "n = int(input(\"enter no. of rows:\"))\n",
    "num = 1\n",
    "\n",
    "for i in range(1, n + 1):\n",
    "    for j in range(i):\n",
    "        print(num, end='')\n",
    "        num += 1\n",
    "    print()\n"
   ]
  },
  {
   "cell_type": "markdown",
   "id": "b484f1e7",
   "metadata": {},
   "source": [
    "G)"
   ]
  },
  {
   "cell_type": "code",
   "execution_count": 1,
   "id": "9e603180",
   "metadata": {},
   "outputs": [
    {
     "name": "stdout",
     "output_type": "stream",
     "text": [
      "Enter length:5\n",
      " \n",
      "\n",
      "5  \n",
      "\n",
      "5 4  \n",
      "\n",
      "5 4 3  \n",
      "\n",
      "5 4 3 2  \n",
      "\n",
      "5 4 3 2 1  \n",
      "\n"
     ]
    }
   ],
   "source": [
    "n=int(input(\"Enter length:\"))\n",
    "for i in range(n+1):\n",
    "    for j in range(n,n-i,-1):\n",
    "        print(j,end=\" \")\n",
    "    print(\" \\n\")  \n"
   ]
  },
  {
   "cell_type": "markdown",
   "id": "37fc6a27",
   "metadata": {},
   "source": [
    "H)"
   ]
  },
  {
   "cell_type": "code",
   "execution_count": 2,
   "id": "93b4474e",
   "metadata": {},
   "outputs": [
    {
     "name": "stdout",
     "output_type": "stream",
     "text": [
      "Enter length:5\n",
      "5  \n",
      "\n",
      "4 4  \n",
      "\n",
      "3 3 3  \n",
      "\n",
      "2 2 2 2  \n",
      "\n",
      "1 1 1 1 1  \n",
      "\n"
     ]
    }
   ],
   "source": [
    "n=int(input(\"Enter length:\"))\n",
    "a=n\n",
    "for i in range(n):\n",
    "    for j in range(i+1):\n",
    "        print(a,end=\" \")\n",
    "    a=a-1\n",
    "    print(\" \\n\")"
   ]
  },
  {
   "cell_type": "markdown",
   "id": "8dd4d2cf",
   "metadata": {},
   "source": [
    "I)"
   ]
  },
  {
   "cell_type": "code",
   "execution_count": 3,
   "id": "b7ec1541",
   "metadata": {},
   "outputs": [
    {
     "name": "stdout",
     "output_type": "stream",
     "text": [
      "Enter length:5\n",
      "*****\n",
      "****\n",
      "***\n",
      "**\n",
      "*\n"
     ]
    }
   ],
   "source": [
    "n=int(input(\"Enter length:\"))\n",
    "for i in range(n,0,-1):\n",
    "    for j in range(i,0,-1):\n",
    "        print(\"*\",end=\"\")\n",
    "    print()"
   ]
  },
  {
   "cell_type": "markdown",
   "id": "a47521d1",
   "metadata": {},
   "source": [
    "J)"
   ]
  },
  {
   "cell_type": "code",
   "execution_count": 4,
   "id": "974e9134",
   "metadata": {},
   "outputs": [
    {
     "name": "stdout",
     "output_type": "stream",
     "text": [
      "Enter length:5\n",
      "11111\n",
      "2222\n",
      "333\n",
      "44\n",
      "5\n"
     ]
    }
   ],
   "source": [
    "n=int(input(\"Enter length:\"))\n",
    "cnt=1\n",
    "for i in range(n,0,-1):\n",
    "    for j in range(i,0,-1):\n",
    "        print(cnt,end=\"\")\n",
    "    cnt=cnt+1\n",
    "    print()"
   ]
  },
  {
   "cell_type": "markdown",
   "id": "a79ae8ed",
   "metadata": {},
   "source": [
    "K)"
   ]
  },
  {
   "cell_type": "code",
   "execution_count": 5,
   "id": "ec603d5c",
   "metadata": {},
   "outputs": [
    {
     "name": "stdout",
     "output_type": "stream",
     "text": [
      "Enter length:5\n",
      "1 2 3 4 5  \n",
      "\n",
      "1 2 3 4  \n",
      "\n",
      "1 2 3  \n",
      "\n",
      "1 2  \n",
      "\n",
      "1  \n",
      "\n"
     ]
    }
   ],
   "source": [
    "n=int(input(\"Enter length:\"));\n",
    "for i in range(n,0,-1):\n",
    "    for j in range(1,i+1):\n",
    "        print(j,end=\" \")\n",
    "    print(\" \\n\") "
   ]
  },
  {
   "cell_type": "code",
   "execution_count": 6,
   "id": "55be8b9d",
   "metadata": {},
   "outputs": [
    {
     "name": "stdout",
     "output_type": "stream",
     "text": [
      "Enter length:5\n",
      "11111\n",
      "2222\n",
      "333\n",
      "44\n",
      "5\n"
     ]
    }
   ],
   "source": [
    "n=int(input(\"Enter length:\"))\n",
    "cnt=1\n",
    "for i in range(n,0,-1):\n",
    "    for j in range(i,0,-1):\n",
    "        print(cnt,end=\"\")\n",
    "    cnt=cnt+1\n",
    "    print()"
   ]
  },
  {
   "cell_type": "code",
   "execution_count": 7,
   "id": "01b3d797",
   "metadata": {},
   "outputs": [
    {
     "name": "stdout",
     "output_type": "stream",
     "text": [
      "Enter length:5\n",
      "5 5 5 5 5  \n",
      "\n",
      "4 4 4 4  \n",
      "\n",
      "3 3 3  \n",
      "\n",
      "2 2  \n",
      "\n",
      "1  \n",
      "\n"
     ]
    }
   ],
   "source": [
    "n=int(input(\"Enter length:\"))\n",
    "a=n\n",
    "for i in range(n,0,-1):\n",
    "    for j in range(1,i+1):\n",
    "        print(a,end=\" \")\n",
    "    a=a-1\n",
    "    print(\" \\n\") "
   ]
  },
  {
   "cell_type": "code",
   "execution_count": 8,
   "id": "0f08796d",
   "metadata": {},
   "outputs": [
    {
     "name": "stdout",
     "output_type": "stream",
     "text": [
      "Enter length:5\n",
      "5 4 3 2 1  \n",
      "\n",
      "5 4 3 2  \n",
      "\n",
      "5 4 3  \n",
      "\n",
      "5 4  \n",
      "\n",
      "5  \n",
      "\n"
     ]
    }
   ],
   "source": [
    "n=int(input(\"Enter length:\"))\n",
    "\n",
    "for i in range(n,0,-1):\n",
    "    a=n\n",
    "    for j in range(1,i+1):\n",
    "        print(a,end=\" \")\n",
    "        a=a-1\n",
    "    print(\" \\n\")"
   ]
  },
  {
   "cell_type": "markdown",
   "id": "b44c365a",
   "metadata": {},
   "source": [
    "Q2)"
   ]
  },
  {
   "cell_type": "code",
   "execution_count": 9,
   "id": "eb4b580a",
   "metadata": {},
   "outputs": [
    {
     "name": "stdout",
     "output_type": "stream",
     "text": [
      "Enter number of rows: 5\n",
      "        * \n",
      "      * * * \n",
      "    * * * * * \n",
      "  * * * * * * * \n",
      "* * * * * * * * * \n"
     ]
    }
   ],
   "source": [
    "rows = int(input(\"Enter number of rows: \"))\n",
    "k = 0\n",
    "for i in range(1, rows+1):\n",
    "    for space in range(1, (rows-i)+1):\n",
    "        print(end=\"  \")\n",
    "    while k!=(2*i-1):\n",
    "        print(\"* \", end=\"\")\n",
    "        k += 1\n",
    "    k = 0\n",
    "    print()"
   ]
  },
  {
   "cell_type": "code",
   "execution_count": 10,
   "id": "5c94a0f1",
   "metadata": {},
   "outputs": [
    {
     "name": "stdout",
     "output_type": "stream",
     "text": [
      "    1\n",
      "   123\n",
      "  12345\n",
      " 1234567\n",
      "123456789\n"
     ]
    }
   ],
   "source": [
    "n = 5\n",
    "for i in range(n):\n",
    "    for j in range(n - i - 1):\n",
    "        print(' ', end='')\n",
    "    for k in range(2 * i + 1):\n",
    "        print(k + 1, end='')\n",
    "    print()"
   ]
  },
  {
   "cell_type": "code",
   "execution_count": 11,
   "id": "de2fe716",
   "metadata": {},
   "outputs": [
    {
     "name": "stdout",
     "output_type": "stream",
     "text": [
      "*\n",
      "**\n",
      "***\n",
      "****\n",
      "*****\n"
     ]
    }
   ],
   "source": [
    "for x in range(1,6):\n",
    "    for y in range(5,x-1):\n",
    "        print(\"\",end=\"\")\n",
    "    for z in range(0,x):\n",
    "        print(\"*\",end=\"\")\n",
    "    print()"
   ]
  },
  {
   "cell_type": "code",
   "execution_count": 12,
   "id": "e8b4924d",
   "metadata": {},
   "outputs": [
    {
     "name": "stdout",
     "output_type": "stream",
     "text": [
      "    1\n",
      "   12\n",
      "  123\n",
      " 1234\n",
      "12345\n"
     ]
    }
   ],
   "source": [
    "for x in range(1,6):\n",
    "    for y in range(5,x,-1):\n",
    "        print(\" \",end=\"\")\n",
    "    for z in range(1,x+1):\n",
    "        print(z,end=\"\")\n",
    "    print()"
   ]
  },
  {
   "cell_type": "code",
   "execution_count": 13,
   "id": "9d8a2174",
   "metadata": {},
   "outputs": [
    {
     "name": "stdout",
     "output_type": "stream",
     "text": [
      "     1\n",
      "    222\n",
      "   33333\n",
      "  4444444\n",
      " 555555555\n"
     ]
    }
   ],
   "source": [
    "inc=1\n",
    "num=1\n",
    "for x in range(5,0,-1):\n",
    "    for y in range(x,0,-1):\n",
    "        print(\" \",end=\"\")\n",
    "    print(str(num)*inc)\n",
    "    num+=1\n",
    "    inc+=2"
   ]
  },
  {
   "cell_type": "code",
   "execution_count": 14,
   "id": "083ef6ed",
   "metadata": {},
   "outputs": [
    {
     "name": "stdout",
     "output_type": "stream",
     "text": [
      "     1\n",
      "    123\n",
      "   12345\n",
      "  1234567\n",
      " 123456789\n"
     ]
    }
   ],
   "source": [
    "inc=1\n",
    "for x in range(5,0,-1):\n",
    "    for y in range(x,0,-1):\n",
    "        print(\" \",end=\"\")\n",
    "    for z in range(1,inc+1):\n",
    "        print(z,end=\"\")\n",
    "    inc+=2\n",
    "    print()"
   ]
  },
  {
   "cell_type": "code",
   "execution_count": 15,
   "id": "608710c3",
   "metadata": {
    "scrolled": true
   },
   "outputs": [
    {
     "name": "stdout",
     "output_type": "stream",
     "text": [
      "    * \n",
      "   * * \n",
      "  * * * \n",
      " * * * * \n",
      "* * * * * \n"
     ]
    }
   ],
   "source": [
    "for x in range(1,6):\n",
    "    for y in range(5,0,-1):\n",
    "        if x>=y:\n",
    "            print(\"* \",end=\"\")\n",
    "        else:\n",
    "            print(\" \",end=\"\")\n",
    "    print()     "
   ]
  },
  {
   "cell_type": "code",
   "execution_count": 16,
   "id": "7a6d77e3",
   "metadata": {},
   "outputs": [
    {
     "name": "stdout",
     "output_type": "stream",
     "text": [
      "   1\n",
      "  232\n",
      " 34543\n",
      "4567654\n"
     ]
    }
   ],
   "source": [
    "n=4\n",
    "pc=1\n",
    "for x in range(1,n+1):\n",
    "    for y in range(n-1,x-1,-1):\n",
    "        print(\" \",end=\"\")\n",
    "    for z in range(x-1,-x,-1):\n",
    "        print(pc -abs(z),end=\"\")\n",
    "    pc+=2\n",
    "    print()"
   ]
  },
  {
   "cell_type": "code",
   "execution_count": 17,
   "id": "1ff135b0",
   "metadata": {},
   "outputs": [
    {
     "name": "stdout",
     "output_type": "stream",
     "text": [
      "     \n",
      "    5\n",
      "   545\n",
      "  54345\n",
      " 5432345\n",
      "543212345\n"
     ]
    }
   ],
   "source": [
    "for i in range(1,7):\n",
    "    print(\" \"*(6-i),end=\"\")\n",
    "    for j in range(5,5-i+2,-1):\n",
    "        print(j,end=\"\")\n",
    "    if i>=2:\n",
    "        for j in range(5-(i-1)+1,5+1):\n",
    "            print(j,end=\"\")\n",
    "    print()"
   ]
  },
  {
   "cell_type": "code",
   "execution_count": 18,
   "id": "cbaa788a",
   "metadata": {},
   "outputs": [
    {
     "name": "stdout",
     "output_type": "stream",
     "text": [
      " *********\n",
      "  *******\n",
      "   *****\n",
      "    ***\n",
      "     *\n"
     ]
    }
   ],
   "source": [
    "for i in range(1,6):\n",
    "    print(\" \"*i,end=\"\")\n",
    "    print(\"*\"*(6-i),end=\"\")\n",
    "    print(\"*\"*(6-i-1),end=\"\")\n",
    "    print()"
   ]
  },
  {
   "cell_type": "code",
   "execution_count": 19,
   "id": "18707508",
   "metadata": {},
   "outputs": [
    {
     "name": "stdout",
     "output_type": "stream",
     "text": [
      " 555555555\n",
      "  4444444\n",
      "   33333\n",
      "    222\n",
      "     1\n"
     ]
    }
   ],
   "source": [
    "for i in range(1,6):\n",
    "    print(\" \"*i,end=\"\")\n",
    "    print(f\"{6-i}\"*(6-i),end=\"\")\n",
    "    print(f\"{6-i}\"*(6-i-1))"
   ]
  },
  {
   "cell_type": "code",
   "execution_count": 20,
   "id": "ae5b72d2",
   "metadata": {},
   "outputs": [
    {
     "name": "stdout",
     "output_type": "stream",
     "text": [
      " 123456789\n",
      "  1234567\n",
      "   12345\n",
      "    123\n",
      "     1\n"
     ]
    }
   ],
   "source": [
    "for i in range(1,6):\n",
    "    print(\" \"*i,end=\"\")\n",
    "    for j in range(1,11-2*i+1):\n",
    "        print(j,end=\"\")\n",
    "    print()"
   ]
  },
  {
   "cell_type": "code",
   "execution_count": 21,
   "id": "8e5176ad",
   "metadata": {},
   "outputs": [
    {
     "name": "stdout",
     "output_type": "stream",
     "text": [
      " 567898765\n",
      "  4567654\n",
      "   34543\n",
      "    232\n",
      "     1\n"
     ]
    }
   ],
   "source": [
    "for i in range(1,6):\n",
    "    print(\" \"*i,end=\"\")\n",
    "    for j in range(5-i+1,9-2*i+2+1):\n",
    "        print(j,end=\"\")\n",
    "    for j in range(8-2*i+2,5-i,-1):\n",
    "        print(j,end=\"\")\n",
    "    print()"
   ]
  },
  {
   "cell_type": "code",
   "execution_count": 22,
   "id": "d7ef1ae3",
   "metadata": {},
   "outputs": [
    {
     "name": "stdout",
     "output_type": "stream",
     "text": [
      " 543212345\n",
      "  5432345\n",
      "   54345\n",
      "    545\n",
      "     5\n"
     ]
    }
   ],
   "source": [
    "for i in range(1,6):\n",
    "    print(\" \"*i,end=\"\")\n",
    "    for j in range(5,i-1,-1):\n",
    "        print(j,end=\"\")\n",
    "    for j in range(2+i-1,5+1):\n",
    "        print(j,end=\"\")\n",
    "    print()"
   ]
  },
  {
   "cell_type": "code",
   "execution_count": 23,
   "id": "7a8a1e85",
   "metadata": {},
   "outputs": [
    {
     "name": "stdout",
     "output_type": "stream",
     "text": [
      "     *\n",
      "    ***\n",
      "   *****\n",
      "  *******\n",
      " *********\n",
      "  *******\n",
      "   *****\n",
      "    ***\n",
      "     *\n"
     ]
    }
   ],
   "source": [
    "for i in range(1,6):\n",
    "    print(\" \"*(6-i),end=\"\")\n",
    "    print(\"*\"*(2*i-1))\n",
    "for i in range(2,6):\n",
    "    print(\" \"*i,end=\"\")\n",
    "    print(\"*\"*(6-i),end=\"\")\n",
    "    print(\"*\"*(6-i-1),end=\"\")\n",
    "    print()"
   ]
  },
  {
   "cell_type": "code",
   "execution_count": 24,
   "id": "c02e3377",
   "metadata": {},
   "outputs": [
    {
     "name": "stdout",
     "output_type": "stream",
     "text": [
      "     1\n",
      "    222\n",
      "   33333\n",
      "  4444444\n",
      " 555555555\n",
      "  4444444\n",
      "   33333\n",
      "    222\n",
      "     1\n"
     ]
    }
   ],
   "source": [
    "for i in range(1,6):\n",
    "    print(\" \"*(6-i),end=\"\")\n",
    "    print(f\"{i}\"*(2*i-1))\n",
    "for i in range(2,6):\n",
    "    print(\" \"*i,end=\"\")\n",
    "    print(f\"{6-i}\"*(6-i),end=\"\")\n",
    "    print(f\"{6-i}\"*(6-i-1))"
   ]
  },
  {
   "cell_type": "code",
   "execution_count": 25,
   "id": "449515ea",
   "metadata": {},
   "outputs": [
    {
     "name": "stdout",
     "output_type": "stream",
     "text": [
      "     1\n",
      "    123\n",
      "   12345\n",
      "  1234567\n",
      " 123456789\n",
      "  1234567\n",
      "   12345\n",
      "    123\n",
      "     1\n"
     ]
    }
   ],
   "source": [
    "for i in range(1,6):\n",
    "    print(\" \"*(6-i),end=\"\")\n",
    "    for j in range(1,2*i):\n",
    "        print(j,end=\"\")\n",
    "    print()\n",
    "for i in range(2,6):\n",
    "    print(\" \"*i,end=\"\")\n",
    "    for j in range(1,11-2*i+1):\n",
    "        print(j,end=\"\")\n",
    "    print()"
   ]
  },
  {
   "cell_type": "code",
   "execution_count": 26,
   "id": "b3094a9f",
   "metadata": {},
   "outputs": [
    {
     "name": "stdout",
     "output_type": "stream",
     "text": [
      "     1\n",
      "    232\n",
      "   34543\n",
      "  4567654\n",
      " 567898765\n",
      "  4567654\n",
      "   34543\n",
      "    232\n",
      "     1\n"
     ]
    }
   ],
   "source": [
    "\n",
    "k=1\n",
    "t=2\n",
    "for i in range(1,6):\n",
    "    print(\" \"*(6-i),end=\"\")\n",
    "    for j in range(1,i+1):\n",
    "        print(k,end=\"\")\n",
    "        if(j==2):\n",
    "            t=k\n",
    "        k=k+1\n",
    "    k=t\n",
    "    if i>=2:\n",
    "        for j in range(i+(i-2),i-1,-1):\n",
    "            print(j,end=\"\")\n",
    "    print()\n",
    "for i in range(2,6):\n",
    "    print(\" \"*i,end=\"\")\n",
    "    for j in range(5-i+1,9-2*i+2+1):\n",
    "        print(j,end=\"\")\n",
    "    for j in range(8-2*i+2,5-i,-1):\n",
    "        print(j,end=\"\")\n",
    "    print()\n",
    "\n"
   ]
  },
  {
   "cell_type": "code",
   "execution_count": 27,
   "id": "8b483244",
   "metadata": {},
   "outputs": [
    {
     "name": "stdout",
     "output_type": "stream",
     "text": [
      "     \n",
      "    5\n",
      "   545\n",
      "  54345\n",
      " 5432345\n",
      "543212345\n",
      " 5432345\n",
      "  54345\n",
      "   545\n",
      "    5\n"
     ]
    }
   ],
   "source": [
    "for i in range(1,7):\n",
    "    print(\" \"*(6-i),end=\"\")\n",
    "    for j in range(5,5-i+2,-1):\n",
    "        print(j,end=\"\")\n",
    "    if i>=2:\n",
    "        for j in range(5-(i-1)+1,5+1):\n",
    "            print(j,end=\"\")\n",
    "    print()\n",
    "for i in range(2,6):\n",
    "    print(\" \"*(i-1),end=\"\")\n",
    "    for j in range(5,i-1,-1):\n",
    "        print(j,end=\"\")\n",
    "    for j in range(2+i-1,5+1):\n",
    "        print(j,end=\"\")\n",
    "    print()"
   ]
  },
  {
   "cell_type": "code",
   "execution_count": 28,
   "id": "f6b679c6",
   "metadata": {},
   "outputs": [
    {
     "name": "stdout",
     "output_type": "stream",
     "text": [
      "*******\n",
      "*******\n",
      "*******\n",
      "*******\n",
      "*******\n",
      "*******\n",
      "*******\n"
     ]
    }
   ],
   "source": [
    "for i in range(1,8):\n",
    "    print(\"*\"*7)"
   ]
  },
  {
   "cell_type": "code",
   "execution_count": 29,
   "id": "5a2ab283",
   "metadata": {},
   "outputs": [
    {
     "name": "stdout",
     "output_type": "stream",
     "text": [
      "*******\n",
      "*     *\n",
      "*     *\n",
      "*     *\n",
      "*     *\n",
      "*     *\n",
      "*******\n"
     ]
    }
   ],
   "source": [
    "for i in range(1,8):\n",
    "    if i==1 or i==7:\n",
    "         print(\"*\"*7)\n",
    "    else:\n",
    "        print(\"*     *\")"
   ]
  },
  {
   "cell_type": "code",
   "execution_count": 30,
   "id": "eb00b7c3",
   "metadata": {},
   "outputs": [
    {
     "name": "stdout",
     "output_type": "stream",
     "text": [
      "\\*****/\n",
      "*\\***/*\n",
      "**\\*/**\n",
      "***\\***\n",
      "**/*\\**\n",
      "*/***\\*\n",
      "/*****\\\n"
     ]
    }
   ],
   "source": [
    "for i in range(1,8):\n",
    "    for j in range(1,8):\n",
    "        if(j==i):\n",
    "            print(\"\\\\\",end=\"\")\n",
    "        elif j==8-i:\n",
    "            print(\"/\",end=\"\")\n",
    "        else:\n",
    "            print(\"*\",end=\"\")\n",
    "    print()"
   ]
  },
  {
   "cell_type": "code",
   "execution_count": 31,
   "id": "839b2c25",
   "metadata": {},
   "outputs": [
    {
     "name": "stdout",
     "output_type": "stream",
     "text": [
      "---------------.|.---------------\n",
      "------------.|..|..|.------------\n",
      "---------.|..|..|..|..|.---------\n",
      "------.|..|..|..|..|..|..|.------\n",
      "---.|..|..|..|..|..|..|..|..|.---\n",
      "------------- WELCOME -------------\n",
      "---.|..|..|..|..|..|..|..|..|.---\n",
      "------.|..|..|..|..|..|..|.------\n",
      "---------.|..|..|..|..|.---------\n",
      "------------.|..|..|.------------\n",
      "---------------.|.---------------\n"
     ]
    }
   ],
   "source": [
    "for i in range(1,6):\n",
    "    print(\"-\"*(15-3*i+3),end=\"\")\n",
    "    print(\".|.\"*(2*i-1),end=\"\")\n",
    "    print(\"-\"*(15-3*i+3))\n",
    "    \n",
    "print(\"-\"*13,\"WELCOME\",\"-\"*13)\n",
    "for i in range(1,6):\n",
    "    print(\"-\"*(3*(i-1)+3),end=\"\")\n",
    "    print(\".|.\"*(6-i),end=\"\")\n",
    "    print(\".|.\"*(6-i-1),end=\"\")\n",
    "    print(\"-\"*(3*(i-1)+3),end=\"\")\n",
    "    print()"
   ]
  },
  {
   "cell_type": "code",
   "execution_count": 32,
   "id": "3c7bc199",
   "metadata": {},
   "outputs": [
    {
     "name": "stdout",
     "output_type": "stream",
     "text": [
      "------------------j------------------\n",
      "----------------j-i-j----------------\n",
      "--------------j-i-h-i-j--------------\n",
      "------------j-i-h-g-h-i-j------------\n",
      "----------j-i-h-g-f-g-h-i-j----------\n",
      "--------j-i-h-g-f-e-f-g-h-i-j--------\n",
      "------j-i-h-g-f-e-d-e-f-g-h-i-j------\n",
      "----j-i-h-g-f-e-d-c-d-e-f-g-h-i-j----\n",
      "--j-i-h-g-f-e-d-c-b-c-d-e-f-g-h-i-j--\n",
      "j-i-h-g-f-e-d-c-b-a-b-c-d-e-f-g-h-i-j\n",
      "--j-i-h-g-f-e-d-c-b-c-d-e-f-g-h-i-j--\n",
      "----j-i-h-g-f-e-d-c-d-e-f-g-h-i-j----\n",
      "------j-i-h-g-f-e-d-e-f-g-h-i-j------\n",
      "--------j-i-h-g-f-e-f-g-h-i-j--------\n",
      "----------j-i-h-g-f-g-h-i-j----------\n",
      "------------j-i-h-g-h-i-j------------\n",
      "--------------j-i-h-i-j--------------\n",
      "----------------j-i-j----------------\n",
      "------------------j------------------\n"
     ]
    }
   ],
   "source": [
    "size = 10\n",
    "l = 'abcdefghijk'\n",
    "for i in range(size-1, -size, -1):\n",
    "    s = '-'.join(l[size-1:abs(i):-1]+l[abs(i):size])\n",
    "    print(s.center(4*size-3, '-'))"
   ]
  },
  {
   "cell_type": "code",
   "execution_count": null,
   "id": "eaef520b",
   "metadata": {},
   "outputs": [],
   "source": []
  }
 ],
 "metadata": {
  "kernelspec": {
   "display_name": "Python 3 (ipykernel)",
   "language": "python",
   "name": "python3"
  },
  "language_info": {
   "codemirror_mode": {
    "name": "ipython",
    "version": 3
   },
   "file_extension": ".py",
   "mimetype": "text/x-python",
   "name": "python",
   "nbconvert_exporter": "python",
   "pygments_lexer": "ipython3",
   "version": "3.10.9"
  }
 },
 "nbformat": 4,
 "nbformat_minor": 5
}
