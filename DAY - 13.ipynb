{
 "cells": [
  {
   "cell_type": "markdown",
   "id": "f13c335c",
   "metadata": {},
   "source": [
    "## **DAY -13**"
   ]
  },
  {
   "cell_type": "markdown",
   "id": "7b68d5f1",
   "metadata": {},
   "source": [
    "Q1)Write a Python Code to count the Number of Each Vowel in a given string? "
   ]
  },
  {
   "cell_type": "code",
   "execution_count": 1,
   "id": "34a71d86",
   "metadata": {},
   "outputs": [
    {
     "name": "stdout",
     "output_type": "stream",
     "text": [
      "Enter string:priyanshi\n",
      "Number of vowels are:3\n"
     ]
    }
   ],
   "source": [
    "string = input(\"Enter string:\")\n",
    "vowels=0\n",
    "for i in string:\n",
    "      if(i=='a' or i=='e' or i=='i' or i=='o' or i=='u' or i=='A' or i=='E' or i=='I' or i=='O' or i=='U'):\n",
    "            vowels=vowels+1\n",
    "print(f\"Number of vowels are:{vowels}\")"
   ]
  },
  {
   "cell_type": "markdown",
   "id": "b0dc1bda",
   "metadata": {},
   "source": [
    "Q2)Write a Python Code to count number of words, characters and number of spaces in a given stirng ?"
   ]
  },
  {
   "cell_type": "code",
   "execution_count": 2,
   "id": "86530b09",
   "metadata": {},
   "outputs": [
    {
     "name": "stdout",
     "output_type": "stream",
     "text": [
      "Enter the string\n",
      "Hello World\n",
      "Total words in the given string  2\n",
      "Total characters in the given string  10\n",
      "Number of space in the given string  1\n"
     ]
    }
   ],
   "source": [
    "wordCount=0\n",
    "charCount=0\n",
    "str=input(\"Enter the string\\n\")\n",
    "split_str=str.split()\n",
    "wordCount=len(split_str)\n",
    "for word in split_str:\n",
    "    charCount+=len(word)\n",
    "print(\"Total words in the given string \",wordCount)\n",
    "print(\"Total characters in the given string \",charCount)\n",
    "print(\"Number of space in the given string \",(wordCount-1))"
   ]
  },
  {
   "cell_type": "markdown",
   "id": "0201c8d4",
   "metadata": {},
   "source": [
    "Q3)Write a Python Program to remove punctuation from a given string (using loop)?"
   ]
  },
  {
   "cell_type": "code",
   "execution_count": 4,
   "id": "78fb9d96",
   "metadata": {},
   "outputs": [
    {
     "name": "stdout",
     "output_type": "stream",
     "text": [
      "enter string: hello @ world! \n",
      "hello  world \n"
     ]
    }
   ],
   "source": [
    "punctuations = '''!()-[]{};:'\"\\,<>./?@#$%^&*_~'''\n",
    "my_str = input(\"enter string: \")\n",
    "no_punct = \"\"\n",
    "for char in my_str:\n",
    "    if char not in punctuations:\n",
    "        no_punct = no_punct + char\n",
    "print(no_punct)"
   ]
  },
  {
   "cell_type": "markdown",
   "id": "55679530",
   "metadata": {},
   "source": [
    "Q4)Write a Python Program to take a mxn matrix input from user and stored in nested list?"
   ]
  },
  {
   "cell_type": "code",
   "execution_count": 1,
   "id": "19379dff",
   "metadata": {},
   "outputs": [
    {
     "name": "stdout",
     "output_type": "stream",
     "text": [
      "Enter the number of rows (m): 2\n",
      "Enter the number of columns (n): 2\n",
      "Enter the matrix elements:\n",
      "Enter element at position (0, 0): 2\n",
      "Enter element at position (0, 1): 4\n",
      "Enter element at position (1, 0): 6\n",
      "Enter element at position (1, 1): 5\n",
      "Matrix entered:\n",
      "[2, 4]\n",
      "[6, 5]\n"
     ]
    }
   ],
   "source": [
    "m = int(input(\"Enter the number of rows (m): \"))\n",
    "n = int(input(\"Enter the number of columns (n): \"))\n",
    "\n",
    "matrix = []\n",
    "\n",
    "print(\"Enter the matrix elements:\")\n",
    "\n",
    "for i in range(m):\n",
    "    row = []\n",
    "    for j in range(n):\n",
    "        element = int(input(f\"Enter element at position ({i}, {j}): \"))\n",
    "        row.append(element)\n",
    "    matrix.append(row)\n",
    "\n",
    "print(\"Matrix entered:\")\n",
    "for row in matrix:\n",
    "    print(row)\n"
   ]
  },
  {
   "cell_type": "markdown",
   "id": "32089b0a",
   "metadata": {},
   "source": [
    "Q5)Write a Python Program to add, multiply and transpose two matrices given by user ?"
   ]
  },
  {
   "cell_type": "code",
   "execution_count": 2,
   "id": "18d6db28",
   "metadata": {},
   "outputs": [
    {
     "name": "stdout",
     "output_type": "stream",
     "text": [
      "Enter the dimensions of the first matrix:\n",
      "Enter the number of rows: 2\n",
      "Enter the number of columns: 3\n",
      "Enter the dimensions of the second matrix:\n",
      "Enter the number of rows: 2\n",
      "Enter the number of columns: 3\n",
      "Enter matrix elements:\n",
      "Enter element at position (0, 0): 2\n",
      "Enter element at position (0, 1): 4\n",
      "Enter element at position (0, 2): 5\n",
      "Enter element at position (1, 0): 6\n",
      "Enter element at position (1, 1): 7\n",
      "Enter element at position (1, 2): 8\n",
      "Enter matrix elements:\n",
      "Enter element at position (0, 0): 1\n",
      "Enter element at position (0, 1): 2\n",
      "Enter element at position (0, 2): 3\n",
      "Enter element at position (1, 0): 4\n",
      "Enter element at position (1, 1): 5\n",
      "Enter element at position (1, 2): 6\n",
      "Addition of matrices:\n",
      "[3, 6, 8]\n",
      "[10, 12, 14]\n",
      "Multiplication of matrices:\n",
      "[18, 24, 30]\n",
      "[34, 47, 60]\n",
      "Transpose of matrix 1:\n",
      "[2, 6]\n",
      "[4, 7]\n",
      "[5, 8]\n"
     ]
    }
   ],
   "source": [
    "def get_matrix_dimensions():\n",
    "    rows = int(input(\"Enter the number of rows: \"))\n",
    "    cols = int(input(\"Enter the number of columns: \"))\n",
    "    return rows, cols\n",
    "\n",
    "def get_matrix_elements(rows, cols):\n",
    "    matrix = []\n",
    "    print(\"Enter matrix elements:\")\n",
    "\n",
    "    for i in range(rows):\n",
    "        row = []\n",
    "        for j in range(cols):\n",
    "            element = int(input(f\"Enter element at position ({i}, {j}): \"))\n",
    "            row.append(element)\n",
    "        matrix.append(row)\n",
    "    \n",
    "    return matrix\n",
    "\n",
    "def add_matrices(matrix1, matrix2):\n",
    "    result = []\n",
    "    for i in range(len(matrix1)):\n",
    "        row = []\n",
    "        for j in range(len(matrix1[0])):\n",
    "            sum_element = matrix1[i][j] + matrix2[i][j]\n",
    "            row.append(sum_element)\n",
    "        result.append(row)\n",
    "    \n",
    "    return result\n",
    "\n",
    "def multiply_matrices(matrix1, matrix2):\n",
    "    result = []\n",
    "    for i in range(len(matrix1)):\n",
    "        row = []\n",
    "        for j in range(len(matrix2[0])):\n",
    "            element = 0\n",
    "            for k in range(len(matrix2)):\n",
    "                element += matrix1[i][k] * matrix2[k][j]\n",
    "            row.append(element)\n",
    "        result.append(row)\n",
    "    \n",
    "    return result\n",
    "\n",
    "def transpose_matrix(matrix):\n",
    "    result = []\n",
    "    for j in range(len(matrix[0])):\n",
    "        row = []\n",
    "        for i in range(len(matrix)):\n",
    "            row.append(matrix[i][j])\n",
    "        result.append(row)\n",
    "    \n",
    "    return result\n",
    "\n",
    "print(\"Enter the dimensions of the first matrix:\")\n",
    "rows1, cols1 = get_matrix_dimensions()\n",
    "\n",
    "print(\"Enter the dimensions of the second matrix:\")\n",
    "rows2, cols2 = get_matrix_dimensions()\n",
    "\n",
    "if rows1 != rows2 or cols1 != cols2:\n",
    "    print(\"Matrices cannot be added/multiplied.\")\n",
    "else:\n",
    "    matrix1 = get_matrix_elements(rows1, cols1)\n",
    "    matrix2 = get_matrix_elements(rows2, cols2)\n",
    "\n",
    "    result_add = add_matrices(matrix1, matrix2)\n",
    "    print(\"Addition of matrices:\")\n",
    "    for row in result_add:\n",
    "        print(row)\n",
    "        \n",
    "    result_multiply = multiply_matrices(matrix1, matrix2)\n",
    "    print(\"Multiplication of matrices:\")\n",
    "    for row in result_multiply:\n",
    "        print(row)\n",
    "        \n",
    "result_transpose = transpose_matrix(matrix1)\n",
    "print(\"Transpose of matrix 1:\")\n",
    "for row in result_transpose:\n",
    "    print(row)\n"
   ]
  },
  {
   "cell_type": "code",
   "execution_count": null,
   "id": "78d15bd0",
   "metadata": {},
   "outputs": [],
   "source": []
  }
 ],
 "metadata": {
  "kernelspec": {
   "display_name": "Python 3 (ipykernel)",
   "language": "python",
   "name": "python3"
  },
  "language_info": {
   "codemirror_mode": {
    "name": "ipython",
    "version": 3
   },
   "file_extension": ".py",
   "mimetype": "text/x-python",
   "name": "python",
   "nbconvert_exporter": "python",
   "pygments_lexer": "ipython3",
   "version": "3.10.9"
  }
 },
 "nbformat": 4,
 "nbformat_minor": 5
}
