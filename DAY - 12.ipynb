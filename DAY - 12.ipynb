{
 "cells": [
  {
   "cell_type": "markdown",
   "id": "77e10585",
   "metadata": {},
   "source": [
    "### DAY - 12"
   ]
  },
  {
   "cell_type": "markdown",
   "id": "02bc8084",
   "metadata": {},
   "source": [
    "Q1)\n",
    "Write a code to implement Guess Game Guess Game \n",
    "\n",
    "constraints / Rules \n",
    "\n",
    "you have 5 chance to guess correct number which is choosen by computer / friend \n",
    "\n",
    "Range which is allowed to select a number 1-50 \n",
    "\n",
    "After each guess you should give some tips / hints to user to improve their chance of winning \n",
    "\n",
    "for example if user guess a number which is higher than actual number you should say `hint: think a low number! \n",
    "\n",
    "if user guess a number which is lower than actual number you should say `hint: think a big number!` \n",
    "\n",
    "      if user wins we will show a congrats messege and stop our game \n",
    "\n",
    "      if any time user guess is out of limit than print a warning message saying Think in Limits 1-50 only! \n",
    "\n",
    "      but we do not count this as a chance "
   ]
  },
  {
   "cell_type": "code",
   "execution_count": 1,
   "id": "c79e74a6",
   "metadata": {},
   "outputs": [
    {
     "name": "stdout",
     "output_type": "stream",
     "text": [
      "Welcome to the Guess Game!\n",
      "You have 5 chances to guess the correct number between 1 and 50.\n",
      "Enter your guess: 44\n",
      "Hint: Think of a lower number!\n",
      "You have 4 chances left.\n",
      "\n",
      "Enter your guess: 35\n",
      "Hint: Think of a lower number!\n",
      "You have 3 chances left.\n",
      "\n",
      "Enter your guess: 8\n",
      "Hint: Think of a higher number!\n",
      "You have 2 chances left.\n",
      "\n",
      "Enter your guess: 15\n",
      "Hint: Think of a higher number!\n",
      "You have 1 chances left.\n",
      "\n",
      "Enter your guess: 22\n",
      "Hint: Think of a higher number!\n",
      "You have 0 chances left.\n",
      "\n",
      "Game over! You ran out of chances.\n",
      "The actual number was 31.\n"
     ]
    }
   ],
   "source": [
    "import random\n",
    "\n",
    "def guess_game():\n",
    "    actual_number = random.randint(1, 50)\n",
    "    chances = 5\n",
    "\n",
    "    print(\"Welcome to the Guess Game!\")\n",
    "    print(\"You have 5 chances to guess the correct number between 1 and 50.\")\n",
    "\n",
    "    while chances > 0:\n",
    "        guess = input(\"Enter your guess: \")\n",
    "        if not guess.isdigit() or int(guess) < 1 or int(guess) > 50:\n",
    "            print(\"Think within the limits of 1-50 only!\")\n",
    "            continue\n",
    "        \n",
    "        guess = int(guess)\n",
    "        if guess > actual_number:\n",
    "            print(\"Hint: Think of a lower number!\")\n",
    "        elif guess < actual_number:\n",
    "            print(\"Hint: Think of a higher number!\")\n",
    "        else:\n",
    "            print(\"Congratulations! You guessed the correct number!\")\n",
    "            return\n",
    "        \n",
    "        chances -= 1\n",
    "        print(f\"You have {chances} chances left.\\n\")\n",
    "\n",
    "    print(\"Game over! You ran out of chances.\")\n",
    "    print(f\"The actual number was {actual_number}.\")\n",
    "\n",
    "guess_game()\n"
   ]
  },
  {
   "cell_type": "markdown",
   "id": "5c9c4ea2",
   "metadata": {},
   "source": [
    "HACKERRANK QUESTIONS"
   ]
  },
  {
   "cell_type": "code",
   "execution_count": 3,
   "id": "aea62eba",
   "metadata": {},
   "outputs": [
    {
     "name": "stdout",
     "output_type": "stream",
     "text": [
      "1\n",
      "1\n",
      "2\n",
      "3\n",
      "[[0, 0, 0], [0, 0, 1], [0, 0, 2], [0, 1, 0], [0, 1, 1], [1, 0, 0], [1, 0, 1], [1, 1, 0], [1, 1, 2]]\n"
     ]
    }
   ],
   "source": [
    "if __name__ == '__main__':\n",
    "    x = int(input())\n",
    "    y = int(input())\n",
    "    z = int(input())\n",
    "    n = int(input())\n",
    "\n",
    "\n",
    "    RESULT = []\n",
    "\n",
    "    for a in range(0, x + 1):\n",
    "        for b in range(0, y + 1):\n",
    "            for c in range(0, z + 1):\n",
    "                if (a + b + c) != n:\n",
    "                    RESULT.append([a, b, c])\n",
    "    \n",
    "    print(RESULT)\n"
   ]
  },
  {
   "cell_type": "code",
   "execution_count": 4,
   "id": "03dca8f6",
   "metadata": {},
   "outputs": [
    {
     "name": "stdout",
     "output_type": "stream",
     "text": [
      "2\n",
      "append 2\n",
      "print\n",
      "[2]\n"
     ]
    }
   ],
   "source": [
    "if __name__ == '__main__':\n",
    "    N = int(input())\n",
    "    L = []\n",
    "    for i in range(0, N):\n",
    "        tokens =input().split()\n",
    "    \n",
    "        if tokens[0] == 'insert':\n",
    "            L.insert(int(tokens[1]), int(tokens[2]))\n",
    "        elif tokens[0] == 'print':\n",
    "            print(L) \n",
    "        elif tokens[0] == 'remove':\n",
    "            L.remove(int(tokens[1]))\n",
    "        elif tokens[0] == 'append':\n",
    "            L.append(int(tokens[1]))\n",
    "        elif tokens[0] == 'sort':\n",
    "            L.sort()\n",
    "        elif tokens[0] == 'pop':\n",
    "            L.pop()\n",
    "        elif tokens[0] == 'reverse':\n",
    "            L.reverse()"
   ]
  },
  {
   "cell_type": "markdown",
   "id": "57c5aa26",
   "metadata": {},
   "source": [
    "Q5)Write a program to sort a list without using inbuilt functions (list.sort not allowed) \n",
    "\n",
    "Using Bubble Sort Algorithm \n",
    "\n",
    "Using Insertion Sort Algorithm  \n",
    "\n",
    "Using Selection Sort Algorithm "
   ]
  },
  {
   "cell_type": "code",
   "execution_count": 3,
   "id": "b0775713",
   "metadata": {},
   "outputs": [
    {
     "name": "stdout",
     "output_type": "stream",
     "text": [
      "Original list: [9, 4, 6, 2, 8, 5]\n",
      "Sorted list: [2, 4, 5, 6, 8, 9]\n"
     ]
    }
   ],
   "source": [
    "def bubble_sort(lst):\n",
    "    n = len(lst)  \n",
    "    for i in range(n):\n",
    "        swapped = False\n",
    "        for j in range(0, n-i-1):\n",
    "            if lst[j] > lst[j+1]:\n",
    "                lst[j], lst[j+1] = lst[j+1], lst[j]\n",
    "                swapped = True\n",
    "        if not swapped:\n",
    "            break\n",
    "my_list = [9, 4, 6, 2, 8, 5]\n",
    "print(\"Original list:\", my_list)\n",
    "\n",
    "bubble_sort(my_list)\n",
    "print(\"Sorted list:\", my_list)\n"
   ]
  },
  {
   "cell_type": "code",
   "execution_count": 2,
   "id": "282f7d25",
   "metadata": {},
   "outputs": [
    {
     "name": "stdout",
     "output_type": "stream",
     "text": [
      "Original list: [9, 4, 6, 2, 8, 5]\n",
      "Sorted list using Insertion Sort: [2, 4, 5, 6, 8, 9]\n"
     ]
    }
   ],
   "source": [
    "def insertion_sort(lst):\n",
    "    n = len(lst)\n",
    "\n",
    "    for i in range(1, n):\n",
    "        key = lst[i]\n",
    "        j = i - 1\n",
    "\n",
    "        while j >= 0 and lst[j] > key:\n",
    "            lst[j + 1] = lst[j]\n",
    "            j -= 1\n",
    "\n",
    "        lst[j + 1] = key\n",
    "my_list = [9, 4, 6, 2, 8, 5]\n",
    "print(\"Original list:\", my_list)\n",
    "\n",
    "insertion_sort(my_list)\n",
    "print(\"Sorted list using Insertion Sort:\", my_list)\n"
   ]
  },
  {
   "cell_type": "code",
   "execution_count": 1,
   "id": "37941c27",
   "metadata": {},
   "outputs": [
    {
     "name": "stdout",
     "output_type": "stream",
     "text": [
      "Original list: [9, 4, 6, 2, 8, 5]\n",
      "Sorted list using Selection Sort: [2, 4, 5, 6, 8, 9]\n"
     ]
    }
   ],
   "source": [
    "def selection_sort(lst):\n",
    "    n = len(lst)\n",
    "\n",
    "    for i in range(n):\n",
    "        min_index = i\n",
    "\n",
    "        for j in range(i+1, n):\n",
    "            if lst[j] < lst[min_index]:\n",
    "                min_index = j\n",
    "\n",
    "        lst[i], lst[min_index] = lst[min_index], lst[i]\n",
    "my_list = [9, 4, 6, 2, 8, 5]\n",
    "print(\"Original list:\", my_list)\n",
    "\n",
    "selection_sort(my_list)\n",
    "print(\"Sorted list using Selection Sort:\", my_list)\n"
   ]
  }
 ],
 "metadata": {
  "kernelspec": {
   "display_name": "Python 3 (ipykernel)",
   "language": "python",
   "name": "python3"
  },
  "language_info": {
   "codemirror_mode": {
    "name": "ipython",
    "version": 3
   },
   "file_extension": ".py",
   "mimetype": "text/x-python",
   "name": "python",
   "nbconvert_exporter": "python",
   "pygments_lexer": "ipython3",
   "version": "3.10.9"
  }
 },
 "nbformat": 4,
 "nbformat_minor": 5
}
