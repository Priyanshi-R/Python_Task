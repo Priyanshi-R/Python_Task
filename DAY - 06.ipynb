{
 "cells": [
  {
   "cell_type": "markdown",
   "id": "31f40cc8",
   "metadata": {},
   "source": [
    "### **DAY -06**"
   ]
  },
  {
   "cell_type": "markdown",
   "id": "e244d4e6",
   "metadata": {},
   "source": [
    "Q1)Write down 10 projects ideas you want to implement using python? "
   ]
  },
  {
   "cell_type": "markdown",
   "id": "9072a5a5",
   "metadata": {},
   "source": [
    "1.Weather Forecasting Application: Create a program that fetches weather data from an API and displays the current weather conditions, temperature, and forecast for a specified location.<BR>\n",
    "\n",
    "2.Expense Tracker: Build an application that allows users to track their expenses, categorize them, and generate reports or visualizations to analyze their spending patterns.<BR>\n",
    "\n",
    "3.Quiz Game: Develop a quiz game where users can test their knowledge on various topics.<BR>\n",
    "\n",
    "4.Image Recognition: Utilize machine learning libraries like OpenCV and TensorFlow to build an image recognition system that can classify objects or identify specific features in images.<BR>\n",
    "    \n",
    "\n",
    "5.Chatbot: Create a conversational bot using natural language processing libraries like NLTK or spaCy. The chatbot can respond to user queries, provide information, or perform specific tasks.<BR>\n",
    "\n",
    "6.Web Scraper: Build a program that extracts data from websites automatically. <BR>\n",
    "\n",
    "7.Stock Market Analysis: Develop a program that retrieves stock market data using APIs, analyzes it using statistical methods or machine learning algorithms, and generates insights or predictions.<BR>\n",
    "\n",
    "8.Personalized Recommendation System: Design a recommendation system that suggests movies, books, or music based on the user's preferences and past behavior. <BR>\n",
    "\n",
    "9.Password Manager: Create a secure password manager application that stores and encrypts user passwords. It should allow users to generate strong passwords and easily access their credentials.<BR>\n",
    "\n",
    "10.Sudoku Solver: Implement an algorithm to solve Sudoku puzzles. The program should take a partially filled Sudoku grid as input and provide the solved solution.<BR>"
   ]
  },
  {
   "cell_type": "markdown",
   "id": "e79ed48d",
   "metadata": {},
   "source": [
    "Q2)Create at list 5 objects using list, dictionary, it will be good if you store realistic data?   "
   ]
  },
  {
   "cell_type": "code",
   "execution_count": 1,
   "id": "9524153c",
   "metadata": {},
   "outputs": [],
   "source": [
    "student = {\n",
    "    \"name\": \"John Doe\",\n",
    "    \"age\": 18,\n",
    "    \"gender\": \"Male\",\n",
    "    \"grade\": 12,\n",
    "    \"subjects\": [\"Math\", \"Science\", \"English\"],\n",
    "    \"marks\": [85, 92, 78]\n",
    "}\n",
    "\n",
    "book = {\n",
    "    \"title\": \"To Kill a Mockingbird\",\n",
    "    \"author\": \"Harper Lee\",\n",
    "    \"genre\": \"Fiction\",\n",
    "    \"publication_year\": 1960,\n",
    "    \"isbn\": \"9780061120084\",\n",
    "    \"rating\": 4.3\n",
    "}\n",
    "\n",
    "restaurant = {\n",
    "    \"name\": \"La Trattoria\",\n",
    "    \"cuisine\": \"Italian\",\n",
    "    \"address\": \"123 Main Street\",\n",
    "    \"city\": \"New York\",\n",
    "    \"rating\": 4.7,\n",
    "    \"menu\": [\"Spaghetti Carbonara\", \"Margherita Pizza\", \"Tiramisu\"]\n",
    "}\n",
    "\n",
    "car = {\n",
    "    \"make\": \"Toyota\",\n",
    "    \"model\": \"Camry\",\n",
    "    \"year\": 2022,\n",
    "    \"color\": \"Silver\",\n",
    "    \"mileage\": 25000,\n",
    "    \"owners\": [\"John Doe\", \"Jane Smith\"],\n",
    "    \"features\": [\"Bluetooth connectivity\", \"Backup camera\", \"Keyless entry\"]\n",
    "}\n",
    "\n",
    "movie = {\n",
    "    \"title\": \"Inception\",\n",
    "    \"director\": \"Christopher Nolan\",\n",
    "    \"genre\": [\"Action\", \"Adventure\", \"Sci-Fi\"],\n",
    "    \"release_year\": 2010,\n",
    "    \"duration\": 148,\n",
    "    \"rating\": 8.8,\n",
    "    \"cast\": [\"Leonardo DiCaprio\", \"Joseph Gordon-Levitt\", \"Ellen Page\"]\n",
    "}\n"
   ]
  },
  {
   "cell_type": "markdown",
   "id": "002151c3",
   "metadata": {},
   "source": [
    "Q3)What is duck typing in python, what are Dunder or special methods?  "
   ]
  },
  {
   "cell_type": "markdown",
   "id": "8a899ab8",
   "metadata": {},
   "source": [
    "when using duck typing, we don't explicitly check the type of an object. Instead, we rely on the presence of certain methods or attributes to determine if the object can perform a specific operation. If the object has the necessary methods or attributes, it is considered to be of the required type.<br>\n",
    "\n",
    "Duck typing allows flexibility and polymorphism in Python, enabling different objects to be used interchangeably as long as they support the required behavior.\n",
    "Dunder or special methods, on the other hand, are methods in Python that have double underscores (underscores on both sides of the method name). These methods are also known as magic methods or special methods because they provide functionality that is invoked implicitly in specific circumstances."
   ]
  },
  {
   "cell_type": "markdown",
   "id": "fb75a10e",
   "metadata": {},
   "source": [
    "Q4)What are operators? How many types of operators are there in python? "
   ]
  },
  {
   "cell_type": "markdown",
   "id": "4978035c",
   "metadata": {},
   "source": [
    "operators are symbols or special characters that perform operations on operands (values or variables). They allow you to manipulate data, perform calculations, compare values, and more. Python supports various types of operators, which can be classified into the following categories:<BR>\n",
    "    Arithmetic Operators: These operators perform basic arithmetic operations like addition, subtraction, multiplication, division, modulus (remainder), and exponentiation.\n",
    "\n",
    "1.Assignment Operators: Assignment operators are used to assign values to variables. They include the simple assignment operator (=) as well as compound assignment operators like +=, -=, *=, /=, %=, and **=.<BR>\n",
    "\n",
    "2.Comparison Operators: These operators compare two values and return a Boolean result (True or False) based on the comparison. They include operators like == (equality), != (inequality), > (greater than), < (less than), >= (greater than or equal to), and <= (less than or equal to).\n",
    "<BR>\n",
    "\n",
    "3.Logical Operators: Logical operators are used to combine multiple conditions and evaluate the overall truth value. The logical operators in Python are and, or, and not.<BR>\n",
    "\n",
    "4.Bitwise Operators: These operators perform operations on individual bits of integers. They include bitwise AND (&), bitwise OR (|), bitwise XOR (^), bitwise NOT (~), left shift (<<), and right shift (>>).<BR>\n",
    "\n",
    "    5.Arithmetic Operators: These operators perform basic arithmetic operations like addition, subtraction, multiplication, division, modulus (remainder), and exponentiation.<BR>\n",
    "    "
   ]
  }
 ],
 "metadata": {
  "kernelspec": {
   "display_name": "Python 3 (ipykernel)",
   "language": "python",
   "name": "python3"
  },
  "language_info": {
   "codemirror_mode": {
    "name": "ipython",
    "version": 3
   },
   "file_extension": ".py",
   "mimetype": "text/x-python",
   "name": "python",
   "nbconvert_exporter": "python",
   "pygments_lexer": "ipython3",
   "version": "3.10.9"
  }
 },
 "nbformat": 4,
 "nbformat_minor": 5
}
