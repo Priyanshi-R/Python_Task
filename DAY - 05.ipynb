{
 "cells": [
  {
   "cell_type": "markdown",
   "id": "34f96a9d",
   "metadata": {},
   "source": [
    "### **DAY - 05**"
   ]
  },
  {
   "cell_type": "markdown",
   "id": "f970a6a9",
   "metadata": {},
   "source": [
    "Q1)What is difference between shallow copy and deep copy? "
   ]
  },
  {
   "cell_type": "markdown",
   "id": "ab4357aa",
   "metadata": {},
   "source": [
    "#####   SHALLOW  COPY:- \n",
    "A shallow copy creates a new object, but the contents of the new object refer to the same memory locations as the original object.<BR>\n",
    "In other words, the top-level elements of the copied object are duplicated, but the nested objects are still shared between the original and copied object.<BR>\n",
    "Modifying a nested object in either the original or copied object will affect both.<BR>\n",
    "Shallow copy can be created using the copy module's copy() function or by using the copy() method of the object.<BR>\n",
    "Shallow copy is the default behavior when using the assignment operator (=) to create a copy."
   ]
  },
  {
   "cell_type": "markdown",
   "id": "8953ce2f",
   "metadata": {},
   "source": [
    "##### DEEP COPY:-\n",
    "A deep copy creates a completely independent object with its own copy of all the nested objects.<BR>\n",
    "The new object is recursively created by duplicating every nested object in the original structure, ensuring that modifications made in the copied object do not affect the original one.<BR>\n",
    "Deep copy can be created using the copy module's deepcopy() function or by using the deepcopy() method of the object."
   ]
  },
  {
   "cell_type": "markdown",
   "id": "f515dafb",
   "metadata": {},
   "source": [
    "Q2)You want to create a library management application, you need to store data about books, students in your program, how will you store data inside python using list? Create some lists with fake data to store information about library management? "
   ]
  },
  {
   "cell_type": "code",
   "execution_count": 1,
   "id": "590b3bd4",
   "metadata": {},
   "outputs": [],
   "source": [
    "\n",
    "books = [\n",
    "    {\n",
    "        'title': 'The Great Gatsby',\n",
    "        'author': 'F. Scott Fitzgerald',\n",
    "        'isbn': '9780743273565',\n",
    "        'available': True\n",
    "    },\n",
    "    {\n",
    "        'title': 'To Kill a Mockingbird',\n",
    "        'author': 'Harper Lee',\n",
    "        'isbn': '9780061120084',\n",
    "        'available': False\n",
    "    },\n",
    "    {\n",
    "        'title': 'Pride and Prejudice',\n",
    "        'author': 'Jane Austen',\n",
    "        'isbn': '9780141439518',\n",
    "        'available': True\n",
    "    }\n",
    "]\n",
    "\n",
    "students = [\n",
    "    {\n",
    "        'id': '001',\n",
    "        'name': 'John Smith',\n",
    "        'books_borrowed': ['9780743273565']\n",
    "    },\n",
    "    {\n",
    "        'id': '002',\n",
    "        'name': 'Emma Johnson',\n",
    "        'books_borrowed': []\n",
    "    },\n",
    "    {\n",
    "        'id': '003',\n",
    "        'name': 'Michael Williams',\n",
    "        'books_borrowed': ['9780061120084', '9780141439518']\n",
    "    }\n",
    "]\n"
   ]
  },
  {
   "cell_type": "markdown",
   "id": "205d0db9",
   "metadata": {},
   "source": [
    "In the above example, the books list contains dictionaries where each dictionary represents a book and its details. The students list contains dictionaries where each dictionary represents a student and their details, including the books they have borrowed.<BR>\n",
    "\n",
    "we can modify and expand these lists as per your specific requirements. Additionally, we may consider using classes and objects to represent books and students for a more structured and object-oriented approach to our library management application."
   ]
  },
  {
   "cell_type": "markdown",
   "id": "f6fa9f4b",
   "metadata": {},
   "source": [
    "Q3)This chapter introduced assignment statements, like spam = 10. What is the difference between an expression and a statement? "
   ]
  },
  {
   "cell_type": "markdown",
   "id": "c5e6d020",
   "metadata": {},
   "source": [
    "#### EXPRESSION:-\n",
    "    An expression is a combination of values, variables, operators, and function calls that can be evaluated to produce a single value.\n",
    "    Expressions are typically used to perform calculations, comparisons, or to retrieve values.\n",
    "    Examples of expressions: 2 + 3, x * y, len(my_list).\n",
    "    Evaluating an expression may or may not have side effects.\n",
    "    Expressions can be used within statements."
   ]
  },
  {
   "cell_type": "markdown",
   "id": "9d95df22",
   "metadata": {},
   "source": [
    "#### STATEMENTS:-\n",
    "    A statement is a complete unit of code that performs an action or a series of actions.\n",
    "    Statements are used to control the flow of a program, execute code conditionally, or define the structure of a program.\n",
    "    Statements are composed of expressions and other programming constructs.\n",
    "    Examples of statements: assignment statements (spam = 10), conditional statements (if, else), loop statements (for, while), function definition statements, etc.\n",
    "    Statements often have side effects, such as modifying variables or performing input/output operations."
   ]
  },
  {
   "cell_type": "markdown",
   "id": "6c05e39c",
   "metadata": {},
   "source": [
    "Q4)Define following \n",
    "\n",
    "Atomic data types / Primary data types \n",
    "\n",
    "Secondary data type / User Defined Data Type "
   ]
  },
  {
   "cell_type": "markdown",
   "id": "a13cc64f",
   "metadata": {},
   "source": [
    "#### ATOMIC/PRIMARY DATA TYPES:-\n",
    "    Atomic data types, also known as primary data types, are the fundamental or basic data types provided by a programming language. They are predefined and built into the language itself. These data types represent the simplest and indivisible units of data that can be manipulated by the language. Examples of atomic data types in Python include:\n",
    "\n",
    "    Integer (int): Represents whole numbers.\n",
    "    Float (float): Represents decimal numbers.\n",
    "    Boolean (bool): Represents either True or False.\n",
    "    Character (str): Represents individual characters or strings of characters.\n",
    "    None (NoneType): Represents the absence of a value."
   ]
  },
  {
   "cell_type": "markdown",
   "id": "ccae747a",
   "metadata": {},
   "source": [
    "#### SECONDARY/USER DEFINED DATA TYPES:-\n",
    "    Secondary data types, also known as user-defined data types, are data types that are created or defined by the programmer using the atomic data types or other user-defined data types. They allow programmers to create custom structures to represent more complex data and provide specific behaviors based on their needs. Examples of secondary data types include:\n",
    "\n",
    "    Arrays: A collection of elements of the same data type.\n",
    "    Lists: An ordered collection of elements that can contain different data types.\n",
    "    Tuples: Similar to lists, but they are immutable.\n",
    "    Sets: An unordered collection of unique elements.\n",
    "    Dictionaries: A collection of key-value pairs."
   ]
  },
  {
   "cell_type": "markdown",
   "id": "363c3fb9",
   "metadata": {},
   "source": [
    "Q5)What is UDF? "
   ]
  },
  {
   "cell_type": "markdown",
   "id": "91fbd662",
   "metadata": {},
   "source": [
    "UDF stands for User-Defined Function. It refers to a function that is defined by the user or programmer, rather than being built-in or provided by the programming language or system. A user-defined function allows developers to create their own custom functions to perform specific tasks or operations within a program.<br>\n",
    "In Python, we can define a user-defined function using the def keyword followed by the function name, a set of parentheses for optional parameters, and a colon to indicate the start of the function body."
   ]
  },
  {
   "cell_type": "code",
   "execution_count": null,
   "id": "3073db4f",
   "metadata": {},
   "outputs": [],
   "source": []
  }
 ],
 "metadata": {
  "kernelspec": {
   "display_name": "Python 3 (ipykernel)",
   "language": "python",
   "name": "python3"
  },
  "language_info": {
   "codemirror_mode": {
    "name": "ipython",
    "version": 3
   },
   "file_extension": ".py",
   "mimetype": "text/x-python",
   "name": "python",
   "nbconvert_exporter": "python",
   "pygments_lexer": "ipython3",
   "version": "3.10.9"
  }
 },
 "nbformat": 4,
 "nbformat_minor": 5
}
