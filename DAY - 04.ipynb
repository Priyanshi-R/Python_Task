{
 "cells": [
  {
   "cell_type": "markdown",
   "id": "4f43198c",
   "metadata": {},
   "source": [
    "### **DAY - 04**"
   ]
  },
  {
   "cell_type": "markdown",
   "id": "abb0aae5",
   "metadata": {},
   "source": [
    "Q1)Explore split, strip, replace, center, title methods of string data type in python? "
   ]
  },
  {
   "cell_type": "code",
   "execution_count": 1,
   "id": "310c46a1",
   "metadata": {},
   "outputs": [
    {
     "name": "stdout",
     "output_type": "stream",
     "text": [
      "['Hello,', 'how', 'are', 'you?']\n"
     ]
    }
   ],
   "source": [
    "text = \"Hello, how are you?\"\n",
    "words = text.split()  \n",
    "print(words)"
   ]
  },
  {
   "cell_type": "code",
   "execution_count": 2,
   "id": "8b6a504e",
   "metadata": {},
   "outputs": [
    {
     "name": "stdout",
     "output_type": "stream",
     "text": [
      "Hello, how are you?\n"
     ]
    }
   ],
   "source": [
    "text = \"   Hello, how are you?   \"\n",
    "cleaned_text = text.strip()\n",
    "print(cleaned_text)"
   ]
  },
  {
   "cell_type": "code",
   "execution_count": 3,
   "id": "362c1809",
   "metadata": {},
   "outputs": [
    {
     "name": "stdout",
     "output_type": "stream",
     "text": [
      "I like dogs. Cats are cute.\n"
     ]
    }
   ],
   "source": [
    "text = \"I like cats. Cats are cute.\"\n",
    "replaced_text = text.replace(\"cats\", \"dogs\")\n",
    "print(replaced_text)"
   ]
  },
  {
   "cell_type": "code",
   "execution_count": 4,
   "id": "3de159ee",
   "metadata": {},
   "outputs": [
    {
     "name": "stdout",
     "output_type": "stream",
     "text": [
      "--Python--\n"
     ]
    }
   ],
   "source": [
    "text = \"Python\"\n",
    "centered_text = text.center(10, \"-\")\n",
    "print(centered_text)"
   ]
  },
  {
   "cell_type": "code",
   "execution_count": 5,
   "id": "873d5c78",
   "metadata": {},
   "outputs": [
    {
     "name": "stdout",
     "output_type": "stream",
     "text": [
      "Hello, World!\n"
     ]
    }
   ],
   "source": [
    "text = \"hello, world!\"\n",
    "title_text = text.title()\n",
    "print(title_text)"
   ]
  },
  {
   "cell_type": "markdown",
   "id": "9783c179",
   "metadata": {},
   "source": [
    "Q2)Explore append, pop, remove, sort methods of list data type? "
   ]
  },
  {
   "cell_type": "code",
   "execution_count": 6,
   "id": "506ecce6",
   "metadata": {},
   "outputs": [
    {
     "name": "stdout",
     "output_type": "stream",
     "text": [
      "['apple', 'banana', 'orange', 'mango']\n"
     ]
    }
   ],
   "source": [
    "fruits = ['apple', 'banana', 'orange']\n",
    "fruits.append('mango')\n",
    "print(fruits)"
   ]
  },
  {
   "cell_type": "code",
   "execution_count": 7,
   "id": "65585384",
   "metadata": {},
   "outputs": [
    {
     "name": "stdout",
     "output_type": "stream",
     "text": [
      "banana\n",
      "['apple', 'orange', 'mango']\n"
     ]
    }
   ],
   "source": [
    "fruits = ['apple', 'banana', 'orange', 'mango']\n",
    "removed_fruit = fruits.pop(1)\n",
    "print(removed_fruit)\n",
    "print(fruits)\n"
   ]
  },
  {
   "cell_type": "code",
   "execution_count": 8,
   "id": "a09d00e1",
   "metadata": {},
   "outputs": [
    {
     "name": "stdout",
     "output_type": "stream",
     "text": [
      "['apple', 'orange', 'mango']\n"
     ]
    }
   ],
   "source": [
    "fruits = ['apple', 'banana', 'orange', 'mango']\n",
    "fruits.remove('banana')\n",
    "print(fruits)\n"
   ]
  },
  {
   "cell_type": "code",
   "execution_count": 9,
   "id": "d01e6c64",
   "metadata": {},
   "outputs": [
    {
     "name": "stdout",
     "output_type": "stream",
     "text": [
      "[1, 2, 5, 7, 9]\n",
      "['Alice', 'Bob', 'Charlie']\n"
     ]
    }
   ],
   "source": [
    "numbers = [5, 2, 9, 1, 7]\n",
    "numbers.sort()\n",
    "print(numbers)\n",
    "\n",
    "names = ['Alice', 'Bob', 'Charlie']\n",
    "names.sort()\n",
    "print(names)"
   ]
  },
  {
   "cell_type": "markdown",
   "id": "58dae6da",
   "metadata": {},
   "source": [
    "Q3)Create 5 real time lists to store some useful information in python eg. Language = [ ‘java’, ‘c’, ‘c++’, ‘ruby’ ] "
   ]
  },
  {
   "cell_type": "code",
   "execution_count": 10,
   "id": "269f69dc",
   "metadata": {},
   "outputs": [],
   "source": [
    "programming_languages = ['Java', 'C', 'C++', 'Ruby']\n",
    "fruits = ['Apple', 'Banana', 'Orange', 'Mango']\n",
    "countries = ['United States', 'United Kingdom', 'Canada', 'Australia']\n",
    "shopping_list = ['Milk', 'Bread', 'Eggs', 'Cheese']\n",
    "colors = ['Red', 'Blue', 'Green', 'Yellow']\n"
   ]
  },
  {
   "cell_type": "markdown",
   "id": "358e204d",
   "metadata": {},
   "source": [
    "Q4)What is difference between mutable and immutable data types in python? "
   ]
  },
  {
   "cell_type": "markdown",
   "id": "96ae1c68",
   "metadata": {},
   "source": [
    "#### **MUTABLE DATA TYPES:-**\n",
    "Mutable data types allow modifications to their values after they are created. This means you can change the state or content of a mutable object without creating a new object.<BR>\n",
    "    \n",
    "Examples of mutable data types in Python include lists, sets, and dictionaries. We can modify elements, add or remove items, or update key-value pairs in these data types."
   ]
  },
  {
   "cell_type": "markdown",
   "id": "0b4ad693",
   "metadata": {},
   "source": [
    "#### **IMMUTABLE DATA TYPES:-**\n",
    "Immutable data types, on the other hand, do not allow modifications to their values once they are created. Any attempt to modify an immutable object creates a new object with the modified value.<BR>\n",
    "    \n",
    "Examples of immutable data types in Python include integers, floats, strings, and tuples. Once created, We cannot change the value of an individual element of an immutable object."
   ]
  },
  {
   "cell_type": "markdown",
   "id": "8357e748",
   "metadata": {},
   "source": [
    "Q5)What are identifiers, list rules of identifiers in python?  "
   ]
  },
  {
   "cell_type": "markdown",
   "id": "346b7a8b",
   "metadata": {},
   "source": [
    " Identifiers are names used to identify variables, functions, classes, modules, or other objects. They are user-defined and help in distinguishing one entity from another within a program. Here are some rules for identifiers in Python:<BR>\n",
    "\n",
    "1.Valid Characters:\n",
    "\n",
    "   An identifier can consist of uppercase letters (A-Z), lowercase letters (a-z), digits (0-9), and underscore (_).\n",
    "   It should start with a letter (a-z, A-Z) or an underscore (_). It cannot start with a digit.\n",
    "\n",
    "2Case Sensitivity:\n",
    "\n",
    "    Python is case-sensitive, meaning that uppercase and lowercase letters are treated as distinct characters.\n",
    "    For example, myVariable, myvariable, and MYVARIABLE are three different identifiers.\n",
    "    \n",
    "3.Reserved Keywords:\n",
    "\n",
    "    Python has reserved keywords that cannot be used as identifiers since they have predefined meanings in the language.\n",
    "    Examples of reserved keywords in Python include if, else, for, while, def, class, import, and True.\n",
    "\n",
    "4.Length:\n",
    "\n",
    "    Identifiers can be of any length, but it is recommended to keep them concise and meaningful.\n",
    "\n",
    "5.Meaningful Names:\n",
    "\n",
    "    It is good practice to use meaningful and descriptive names for identifiers to enhance code readability.\n",
    "\n",
    "6.Avoid Special Characters:\n",
    "\n",
    "    Special characters like !, @, #, $, %, etc., are not allowed in identifiers.\n",
    "    \n",
    "7.Underscore Convention:\n",
    "\n",
    "    By convention, multiple-word identifiers are written in lowercase letters, and words are separated by underscores.\n",
    "    For example, my_variable, total_sum, user_name.\n",
    "\n",
    "8.Avoid Starting with Double Underscore:\n",
    "\n",
    "    Identifiers starting with double underscores (__) are typically reserved for special meanings in Python, so it is generally recommended to avoid using them for regular identifiers.    "
   ]
  }
 ],
 "metadata": {
  "kernelspec": {
   "display_name": "Python 3 (ipykernel)",
   "language": "python",
   "name": "python3"
  },
  "language_info": {
   "codemirror_mode": {
    "name": "ipython",
    "version": 3
   },
   "file_extension": ".py",
   "mimetype": "text/x-python",
   "name": "python",
   "nbconvert_exporter": "python",
   "pygments_lexer": "ipython3",
   "version": "3.10.9"
  }
 },
 "nbformat": 4,
 "nbformat_minor": 5
}
