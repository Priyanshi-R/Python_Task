{
 "cells": [
  {
   "cell_type": "markdown",
   "id": "84765b6d",
   "metadata": {},
   "source": [
    "## **DAY - 10**"
   ]
  },
  {
   "cell_type": "markdown",
   "id": "d7ae8b32",
   "metadata": {},
   "source": [
    "Q1)Python Program to Check Palindrome Number?"
   ]
  },
  {
   "cell_type": "code",
   "execution_count": 2,
   "id": "602455d4",
   "metadata": {},
   "outputs": [
    {
     "name": "stdout",
     "output_type": "stream",
     "text": [
      "Enter number:99\n",
      "The number is a palindrome!\n"
     ]
    }
   ],
   "source": [
    "n=int(input(\"Enter number:\"))\n",
    "temp=n\n",
    "rev=0\n",
    "while(n>0):\n",
    "    dig=n%10\n",
    "    rev=rev*10+dig\n",
    "    n=n//10\n",
    "if(temp==rev):\n",
    "    print(\"The number is a palindrome!\")\n",
    "else:\n",
    "    print(\"The number isn't a palindrome!\")"
   ]
  },
  {
   "cell_type": "markdown",
   "id": "56954e0a",
   "metadata": {},
   "source": [
    "Q2)Python Program to Print all multiples of 3 and 5 in an Interval?"
   ]
  },
  {
   "cell_type": "code",
   "execution_count": 1,
   "id": "1a6a2786",
   "metadata": {},
   "outputs": [
    {
     "name": "stdout",
     "output_type": "stream",
     "text": [
      "Enter lower range limit:3\n",
      "Enter upper range limit:10\n"
     ]
    }
   ],
   "source": [
    "lower = int(input(\"Enter lower range limit:\"))\n",
    "upper = int(input(\"Enter upper range limit:\"))\n",
    "for i in range(lower, upper+1):\n",
    "    if((i%3==0) & (i%5==0)):\n",
    "        print(i)"
   ]
  },
  {
   "cell_type": "markdown",
   "id": "bd93c41a",
   "metadata": {},
   "source": [
    "Q3)Python Program to Find the Factorial of a Number ?"
   ]
  },
  {
   "cell_type": "code",
   "execution_count": 4,
   "id": "3ea116a4",
   "metadata": {},
   "outputs": [
    {
     "name": "stdout",
     "output_type": "stream",
     "text": [
      "Enter a number: 6\n",
      "The factorial of 6 is 720\n"
     ]
    }
   ],
   "source": [
    "num = int(input(\"Enter a number: \"))\n",
    "\n",
    "factorial = 1\n",
    "if num < 0:\n",
    "    print(\"Sorry, factorial does not exist for negative numbers\")\n",
    "elif num == 0:\n",
    "    print(\"The factorial of 0 is 1\")\n",
    "else:\n",
    "    for i in range(1,num + 1):\n",
    "        factorial = factorial*i\n",
    "    print(\"The factorial of\",num,\"is\",factorial)"
   ]
  },
  {
   "cell_type": "markdown",
   "id": "d271adb8",
   "metadata": {},
   "source": [
    "Q4)Python Program to Print the Fibonacci sequence ?"
   ]
  },
  {
   "cell_type": "code",
   "execution_count": 5,
   "id": "2286af3b",
   "metadata": {},
   "outputs": [
    {
     "name": "stdout",
     "output_type": "stream",
     "text": [
      "enter number: 9\n",
      "Fibonacci Series: 0 1 1 2 3 5 8 13 21 "
     ]
    }
   ],
   "source": [
    "num = int(input(\"enter number: \"))\n",
    "n1, n2 = 0, 1\n",
    "print(\"Fibonacci Series:\", n1, n2, end=\" \")\n",
    "for i in range(2, num):\n",
    "    n3 = n1 + n2\n",
    "    n1 = n2\n",
    "    n2 = n3\n",
    "    print(n3, end=\" \")\n"
   ]
  },
  {
   "cell_type": "markdown",
   "id": "a37fd08b",
   "metadata": {},
   "source": [
    "Q5)Python Program to Check Armstrong Number?"
   ]
  },
  {
   "cell_type": "code",
   "execution_count": 7,
   "id": "b85cb80c",
   "metadata": {},
   "outputs": [
    {
     "name": "stdout",
     "output_type": "stream",
     "text": [
      "Enter a number: 153\n",
      "153 is an Armstrong number\n"
     ]
    }
   ],
   "source": [
    "num = int(input(\"Enter a number: \"))\n",
    "sum = 0\n",
    "temp = num\n",
    "while temp > 0:\n",
    "   digit = temp % 10\n",
    "   sum += digit ** 3\n",
    "   temp //= 10\n",
    "if num == sum:\n",
    "   print(num,\"is an Armstrong number\")\n",
    "else:\n",
    "   print(num,\"is not an Armstrong number\")"
   ]
  },
  {
   "cell_type": "code",
   "execution_count": null,
   "id": "afc38a62",
   "metadata": {},
   "outputs": [],
   "source": []
  }
 ],
 "metadata": {
  "kernelspec": {
   "display_name": "Python 3 (ipykernel)",
   "language": "python",
   "name": "python3"
  },
  "language_info": {
   "codemirror_mode": {
    "name": "ipython",
    "version": 3
   },
   "file_extension": ".py",
   "mimetype": "text/x-python",
   "name": "python",
   "nbconvert_exporter": "python",
   "pygments_lexer": "ipython3",
   "version": "3.10.9"
  }
 },
 "nbformat": 4,
 "nbformat_minor": 5
}
