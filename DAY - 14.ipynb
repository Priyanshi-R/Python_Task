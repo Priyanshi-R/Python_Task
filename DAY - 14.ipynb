{
 "cells": [
  {
   "cell_type": "markdown",
   "id": "f4404db1",
   "metadata": {},
   "source": [
    "## **DAY - 14**"
   ]
  },
  {
   "cell_type": "markdown",
   "id": "c9bd0c85",
   "metadata": {},
   "source": [
    "Q1) Program to find LCM and HCF of two numbers? "
   ]
  },
  {
   "cell_type": "code",
   "execution_count": 3,
   "id": "fc6049aa",
   "metadata": {},
   "outputs": [
    {
     "name": "stdout",
     "output_type": "stream",
     "text": [
      "Enter Two Numbers: 6\n",
      "18\n",
      "\n",
      "LCM (6, 18) =  18\n",
      "HCF (6, 18) =  6\n"
     ]
    }
   ],
   "source": [
    "print(\"Enter Two Numbers: \", end=\"\")\n",
    "no = int(input())\n",
    "nt = int(input())\n",
    "\n",
    "a = no\n",
    "b = nt\n",
    "while b!=0:\n",
    "    temp = b\n",
    "    b = a%b\n",
    "    a = temp\n",
    "\n",
    "hcf = a\n",
    "lcm = int((no*nt)/hcf)\n",
    "\n",
    "print(\"\\nLCM (\" + str(no) + \", \" + str(nt) + \") = \", lcm)\n",
    "print(\"HCF (\" + str(no) + \", \" + str(nt) + \") = \", hcf)"
   ]
  },
  {
   "cell_type": "markdown",
   "id": "130ad274",
   "metadata": {},
   "source": [
    "Q2)Program to find the sum of digits of a number until the sum is reduced to 1 digit?"
   ]
  },
  {
   "cell_type": "code",
   "execution_count": 1,
   "id": "109c3e2c",
   "metadata": {},
   "outputs": [
    {
     "name": "stdout",
     "output_type": "stream",
     "text": [
      "Enter a number: 123\n",
      "Sum of digits reduced to a single digit: 6\n"
     ]
    }
   ],
   "source": [
    "def sum_of_digits(number):\n",
    "    while number > 9:\n",
    "        digit_sum = 0\n",
    "        while number != 0:\n",
    "            digit_sum += number % 10\n",
    "            number //= 10\n",
    "        number = digit_sum\n",
    "    return number\n",
    "\n",
    "number = int(input(\"Enter a number: \"))\n",
    "\n",
    "result = sum_of_digits(number)\n",
    "\n",
    "print(\"Sum of digits reduced to a single digit:\", result)\n"
   ]
  },
  {
   "cell_type": "markdown",
   "id": "67a63d6d",
   "metadata": {},
   "source": [
    "Q3)Write a program to accept any number n and print the cube of all numbers from 1 to n which are divisible by 3. Rewrite the program using a continue statement. "
   ]
  },
  {
   "cell_type": "code",
   "execution_count": 3,
   "id": "674dfad7",
   "metadata": {},
   "outputs": [
    {
     "name": "stdout",
     "output_type": "stream",
     "text": [
      "Enter a number: 9\n",
      "Cubes of numbers divisible by 3:\n",
      "27\n",
      "216\n",
      "729\n"
     ]
    }
   ],
   "source": [
    "n = int(input(\"Enter a number: \"))\n",
    "\n",
    "print(\"Cubes of numbers divisible by 3:\")\n",
    "for i in range(1, n+1):\n",
    "    if i % 3 != 0:\n",
    "        continue\n",
    "    print(i ** 3)"
   ]
  },
  {
   "cell_type": "markdown",
   "id": "d9e68b30",
   "metadata": {},
   "source": [
    "Q4)Write a program to read roll number and marks of 10 students in 3 subjects. The valid range for roll number is 1000-9999, if the roll number entered is not in this range, the user should be asked to enter again. Calculate total marks of only those students who get more than or equal to 40 marks in each subject. Count the number of students whose total is more than 200. Print the roll number of the students who gets the highest total. "
   ]
  },
  {
   "cell_type": "code",
   "execution_count": 1,
   "id": "edcadadd",
   "metadata": {},
   "outputs": [
    {
     "name": "stdout",
     "output_type": "stream",
     "text": [
      "Enter roll number and marks for 10 students:\n",
      "Enter roll number for student 1: 1234\n",
      "Enter marks for subject 1 of student 1: 50\n",
      "Enter marks for subject 2 of student 1: 1245\n",
      "Enter marks for subject 3 of student 1: 80\n",
      "Enter roll number for student 2: 1246\n",
      "Enter marks for subject 1 of student 2: 90\n",
      "Enter marks for subject 2 of student 2: 89\n",
      "Enter marks for subject 3 of student 2: 78\n",
      "Enter roll number for student 3: 1367\n",
      "Enter marks for subject 1 of student 3: 50\n",
      "Enter marks for subject 2 of student 3: 48\n",
      "Enter marks for subject 3 of student 3: 87\n",
      "Enter roll number for student 4: 93\n",
      "Invalid roll number. Enter again.\n",
      "Enter roll number for student 4: 1456\n",
      "Enter marks for subject 1 of student 4: 79\n",
      "Enter marks for subject 2 of student 4: 67\n",
      "Enter marks for subject 3 of student 4: 65\n",
      "Enter roll number for student 5: 1345\n",
      "Enter marks for subject 1 of student 5: 78\n",
      "Enter marks for subject 2 of student 5: 67\n",
      "Enter marks for subject 3 of student 5: 56\n",
      "Enter roll number for student 6: 1567\n",
      "Enter marks for subject 1 of student 6: 90\n",
      "Enter marks for subject 2 of student 6: 98\n",
      "Enter marks for subject 3 of student 6: 97\n",
      "Enter roll number for student 7: 1567\n",
      "Enter marks for subject 1 of student 7: 89\n",
      "Enter marks for subject 2 of student 7: 76\n",
      "Enter marks for subject 3 of student 7: 34\n",
      "Enter roll number for student 8: 1789\n",
      "Enter marks for subject 1 of student 8: 63\n",
      "Enter marks for subject 2 of student 8: 72\n",
      "Enter marks for subject 3 of student 8: 89\n",
      "Enter roll number for student 9: 1678\n",
      "Enter marks for subject 1 of student 9: 58\n",
      "Enter marks for subject 2 of student 9: 98\n",
      "Enter marks for subject 3 of student 9: 96\n",
      "Enter roll number for student 10: 1987\n",
      "Enter marks for subject 1 of student 10: 89\n",
      "Enter marks for subject 2 of student 10: 76\n",
      "Enter marks for subject 3 of student 10: 65\n",
      "Total marks of students with more than or equal to 40 marks in each subject:\n",
      "Number of students with total marks above 200: 8\n",
      "Roll number of the student with the highest total marks: 1234\n"
     ]
    }
   ],
   "source": [
    "def validate_roll_number(roll_number):\n",
    "    return 1000 <= roll_number <= 9999\n",
    "\n",
    "total_marks_above_200 = 0\n",
    "highest_total = 0\n",
    "highest_total_roll_number = None\n",
    "\n",
    "count_students_above_200 = 0\n",
    "total_marks = 0\n",
    "\n",
    "print(\"Enter roll number and marks for 10 students:\")\n",
    "\n",
    "for i in range(1, 11):\n",
    "    while True:\n",
    "        roll_number = int(input(f\"Enter roll number for student {i}: \"))\n",
    "        if validate_roll_number(roll_number):\n",
    "            break\n",
    "        else:\n",
    "            print(\"Invalid roll number. Enter again.\")\n",
    "\n",
    "    marks = []\n",
    "    for subject in range(1, 4):\n",
    "        subject_marks = int(input(f\"Enter marks for subject {subject} of student {i}: \"))\n",
    "        marks.append(subject_marks)\n",
    "\n",
    "    total_marks = sum(marks)\n",
    "\n",
    "    if all(mark >= 40 for mark in marks):\n",
    "        if total_marks > highest_total:\n",
    "            highest_total = total_marks\n",
    "            highest_total_roll_number = roll_number\n",
    "\n",
    "        if total_marks > 200:\n",
    "            count_students_above_200 += 1\n",
    "\n",
    "print(\"Total marks of students with more than or equal to 40 marks in each subject:\")\n",
    "print(f\"Number of students with total marks above 200: {count_students_above_200}\")\n",
    "print(f\"Roll number of the student with the highest total marks: {highest_total_roll_number}\")\n"
   ]
  },
  {
   "cell_type": "markdown",
   "id": "7a30b46a",
   "metadata": {},
   "source": [
    "Q5)Write a program to input a number and count the digits in it. Use while loop and the program should work correctly for 0 also"
   ]
  },
  {
   "cell_type": "code",
   "execution_count": 5,
   "id": "760d1815",
   "metadata": {},
   "outputs": [
    {
     "name": "stdout",
     "output_type": "stream",
     "text": [
      "Enter a number: 1234567\n",
      "Number of digits: 7\n"
     ]
    }
   ],
   "source": [
    "number = int(input(\"Enter a number: \"))\n",
    "digit_count = 1\n",
    "if number == 0:\n",
    "    digit_count = 0\n",
    "while number != 0:\n",
    "    number //= 10\n",
    "    digit_count += 1\n",
    "\n",
    "print(\"Number of digits:\", (digit_count-1))\n"
   ]
  },
  {
   "cell_type": "markdown",
   "id": "ef852c9b",
   "metadata": {},
   "source": [
    "Q6)Write a program to enter a number and find the reverse of that number. Also display the double of the reverse number. (don’t use string magic) "
   ]
  },
  {
   "cell_type": "code",
   "execution_count": 1,
   "id": "c4c0ae46",
   "metadata": {},
   "outputs": [
    {
     "name": "stdout",
     "output_type": "stream",
     "text": [
      "Enter a number: 345\n",
      "Reverse number: 543\n",
      "Double of the reverse number: 1086\n"
     ]
    }
   ],
   "source": [
    "n=int(input(\"Enter a number: \"))\n",
    "rev=0\n",
    "while n!=0:\n",
    "    digit=n%10 \n",
    "    rev=rev*10+digit\n",
    "    n//=10\n",
    "double_rev=rev*2\n",
    "print(\"Reverse number:\", rev)\n",
    "print(\"Double of the reverse number:\", double_rev)"
   ]
  }
 ],
 "metadata": {
  "kernelspec": {
   "display_name": "Python 3 (ipykernel)",
   "language": "python",
   "name": "python3"
  },
  "language_info": {
   "codemirror_mode": {
    "name": "ipython",
    "version": 3
   },
   "file_extension": ".py",
   "mimetype": "text/x-python",
   "name": "python",
   "nbconvert_exporter": "python",
   "pygments_lexer": "ipython3",
   "version": "3.10.9"
  }
 },
 "nbformat": 4,
 "nbformat_minor": 5
}
