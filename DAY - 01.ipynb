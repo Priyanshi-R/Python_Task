{
 "cells": [
  {
   "cell_type": "markdown",
   "id": "5490bc64",
   "metadata": {},
   "source": [
    "## **DAY - 01**"
   ]
  },
  {
   "cell_type": "markdown",
   "id": "aca4fc88",
   "metadata": {},
   "source": [
    "Q2)List Some Mega Projects hosted in Python<br> \n",
    "\n",
    "Database Projects: Management Systems (Library, Hotel, Hospital, School)<br> \n",
    "\n",
    "ML Projects: Classification<br> \n",
    "\n",
    "AI Projects: Chatbots, face detection and recognition, speech recognition, Security<br> \n",
    "\n",
    "Data Science Projects: Global Terrorism Analysis, Call Data Record Analysis <br>\n",
    "\n",
    "Deep Learning Projects: Human Face Detection,Traffic Sign Classification,Gender and Age Detection<br>\n",
    "\n",
    "IOT Projects: Weather Reporting System ,Soil Moisture Detection,Remote Control Car"
   ]
  },
  {
   "cell_type": "markdown",
   "id": "3bc6e3e7",
   "metadata": {},
   "source": [
    "Q3)List Python Libraries Used in Different IT Domains<br> \n",
    "\n",
    "Pandas, numpy, matplotlib, tkinter, sklearn, tensorflow,Keras,SciPY,PyTorch "
   ]
  },
  {
   "cell_type": "markdown",
   "id": "b9c7370e",
   "metadata": {},
   "source": [
    "Q4)Create a Program and execute a script in Python?  "
   ]
  },
  {
   "cell_type": "code",
   "execution_count": 1,
   "id": "14c6049c",
   "metadata": {},
   "outputs": [
    {
     "name": "stdout",
     "output_type": "stream",
     "text": [
      "Hello World\n",
      "sum is : 50\n"
     ]
    }
   ],
   "source": [
    "print(\"Hello World\") \n",
    "\n",
    "a = 45 \n",
    "\n",
    "b = 5 \n",
    "\n",
    "c = a+b \n",
    "\n",
    "print(f\"sum is : {c}\") "
   ]
  }
 ],
 "metadata": {
  "kernelspec": {
   "display_name": "Python 3 (ipykernel)",
   "language": "python",
   "name": "python3"
  },
  "language_info": {
   "codemirror_mode": {
    "name": "ipython",
    "version": 3
   },
   "file_extension": ".py",
   "mimetype": "text/x-python",
   "name": "python",
   "nbconvert_exporter": "python",
   "pygments_lexer": "ipython3",
   "version": "3.10.9"
  }
 },
 "nbformat": 4,
 "nbformat_minor": 5
}
