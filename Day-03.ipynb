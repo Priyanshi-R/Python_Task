{
 "cells": [
  {
   "cell_type": "markdown",
   "id": "12f27e9b",
   "metadata": {},
   "source": [
    "## **DAY - 03**"
   ]
  },
  {
   "cell_type": "markdown",
   "id": "69dcb1e2",
   "metadata": {},
   "source": [
    "Q1)What are Data Structures? List some of data structures and their use in real world application?<BR>\n",
    "    Data structures are a specific way of organizing data in a specialized format on a computer so that the information can be organized, processed, stored, and retrieved quickly and effectively. They are a means of handling information, rendering the data for easy use.<BR>\n",
    "    1.ARRAY - an assortment of specific things stored at memory locations. it helps in image processing, record management, and ordering boxes.<BR>\n",
    "    2.STRING - Strings are referred to as the array of characters.They are used for spam email detection, plagiarism detection, digital forensics, search engine, information retrieval system, and spell checkers.<BR>\n",
    "    3.LINKED LISTS - A linked list is the sequence data structure connecting elements (nodes) via links. They can implement stacks, graphs, and queues.<BR>"
   ]
  },
  {
   "cell_type": "markdown",
   "id": "a41a84a3",
   "metadata": {},
   "source": [
    "Q3)Create a list data type and store names of your friends in it (at least 5), check out what are methods available in list data type, try to figure out their working using help function in python? "
   ]
  },
  {
   "cell_type": "code",
   "execution_count": 1,
   "id": "0f90cc15",
   "metadata": {},
   "outputs": [
    {
     "data": {
      "text/plain": [
       "['__add__',\n",
       " '__class__',\n",
       " '__class_getitem__',\n",
       " '__contains__',\n",
       " '__delattr__',\n",
       " '__delitem__',\n",
       " '__dir__',\n",
       " '__doc__',\n",
       " '__eq__',\n",
       " '__format__',\n",
       " '__ge__',\n",
       " '__getattribute__',\n",
       " '__getitem__',\n",
       " '__gt__',\n",
       " '__hash__',\n",
       " '__iadd__',\n",
       " '__imul__',\n",
       " '__init__',\n",
       " '__init_subclass__',\n",
       " '__iter__',\n",
       " '__le__',\n",
       " '__len__',\n",
       " '__lt__',\n",
       " '__mul__',\n",
       " '__ne__',\n",
       " '__new__',\n",
       " '__reduce__',\n",
       " '__reduce_ex__',\n",
       " '__repr__',\n",
       " '__reversed__',\n",
       " '__rmul__',\n",
       " '__setattr__',\n",
       " '__setitem__',\n",
       " '__sizeof__',\n",
       " '__str__',\n",
       " '__subclasshook__',\n",
       " 'append',\n",
       " 'clear',\n",
       " 'copy',\n",
       " 'count',\n",
       " 'extend',\n",
       " 'index',\n",
       " 'insert',\n",
       " 'pop',\n",
       " 'remove',\n",
       " 'reverse',\n",
       " 'sort']"
      ]
     },
     "execution_count": 1,
     "metadata": {},
     "output_type": "execute_result"
    }
   ],
   "source": [
    "name = [\"PRIYANSHI\",\"NEHA\",\"KHUSHI\",\"ANJALI\",\"SAIZAL\"]\n",
    "dir(name)"
   ]
  },
  {
   "cell_type": "code",
   "execution_count": 2,
   "id": "c979f189",
   "metadata": {},
   "outputs": [
    {
     "name": "stdout",
     "output_type": "stream",
     "text": [
      "Help on built-in function append:\n",
      "\n",
      "append(object, /) method of builtins.list instance\n",
      "    Append object to the end of the list.\n",
      "\n",
      "Help on built-in function clear:\n",
      "\n",
      "clear() method of builtins.list instance\n",
      "    Remove all items from list.\n",
      "\n",
      "Help on built-in function copy:\n",
      "\n",
      "copy() method of builtins.list instance\n",
      "    Return a shallow copy of the list.\n",
      "\n",
      "Help on built-in function count:\n",
      "\n",
      "count(value, /) method of builtins.list instance\n",
      "    Return number of occurrences of value.\n",
      "\n",
      "Help on built-in function extend:\n",
      "\n",
      "extend(iterable, /) method of builtins.list instance\n",
      "    Extend list by appending elements from the iterable.\n",
      "\n",
      "Help on built-in function index:\n",
      "\n",
      "index(value, start=0, stop=9223372036854775807, /) method of builtins.list instance\n",
      "    Return first index of value.\n",
      "    \n",
      "    Raises ValueError if the value is not present.\n",
      "\n",
      "Help on built-in function insert:\n",
      "\n",
      "insert(index, object, /) method of builtins.list instance\n",
      "    Insert object before index.\n",
      "\n",
      "Help on built-in function pop:\n",
      "\n",
      "pop(index=-1, /) method of builtins.list instance\n",
      "    Remove and return item at index (default last).\n",
      "    \n",
      "    Raises IndexError if list is empty or index is out of range.\n",
      "\n",
      "Help on built-in function remove:\n",
      "\n",
      "remove(value, /) method of builtins.list instance\n",
      "    Remove first occurrence of value.\n",
      "    \n",
      "    Raises ValueError if the value is not present.\n",
      "\n",
      "Help on built-in function reverse:\n",
      "\n",
      "reverse() method of builtins.list instance\n",
      "    Reverse *IN PLACE*.\n",
      "\n",
      "Help on built-in function sort:\n",
      "\n",
      "sort(*, key=None, reverse=False) method of builtins.list instance\n",
      "    Sort the list in ascending order and return None.\n",
      "    \n",
      "    The sort is in-place (i.e. the list itself is modified) and stable (i.e. the\n",
      "    order of two equal elements is maintained).\n",
      "    \n",
      "    If a key function is given, apply it once to each list item and sort them,\n",
      "    ascending or descending, according to their function values.\n",
      "    \n",
      "    The reverse flag can be set to sort in descending order.\n",
      "\n"
     ]
    }
   ],
   "source": [
    "help(name.append)\n",
    "help(name.clear)\n",
    "help(name.copy)\n",
    "help(name.count)\n",
    "help(name.extend)\n",
    "help(name.index)\n",
    "help(name.insert)\n",
    "help(name.pop)\n",
    "help(name.remove)\n",
    "help(name.reverse)\n",
    "help(name.sort)"
   ]
  },
  {
   "cell_type": "markdown",
   "id": "0d0fee2f",
   "metadata": {},
   "source": [
    "Q4)What is difference between ordered data type and unordered data type? <br>\n",
    "##### **ORDERED**\n",
    "    An ordered data type, also known as a sequential data type, maintains a specific order or sequence for its elements.\n",
    "    The position or index of each element is significant and determines its relative location within the data structure.\n",
    "    Examples of ordered data types include lists, arrays, tuples, and strings.\n",
    "    Elements in an ordered data type can be accessed and retrieved by their index."
   ]
  },
  {
   "cell_type": "markdown",
   "id": "9804a91a",
   "metadata": {},
   "source": [
    "#### UNORDERED\n",
    "    An unordered data type, also called a non-sequential data type, does not have a specific order or sequence for its elements.\n",
    "    The elements are stored in a manner that does not define any particular order or arrangement.\n",
    "    Examples of unordered data types include sets and dictionaries (also known as hash tables or associative arrays).\n",
    "    Elements in an unordered data type cannot be accessed or retrieved by their index since there is no predefined order."
   ]
  },
  {
   "cell_type": "markdown",
   "id": "6c7cd069",
   "metadata": {},
   "source": [
    "Q5)Write down types of each value given? (In python) \n",
    "\n",
    "100 - INT\n",
    "\n",
    "105.5 - FLOAT\n",
    "\n",
    "192.56j - COMPLEX \n",
    "\n",
    "10+6j - COMPLEX \n",
    "\n",
    "‘10’ - STRING\n",
    "\n",
    "‘Hello world’  - STRING \n",
    "\n",
    "[ 10, 20, 50, 100] - LIST\n",
    "\n",
    "{‘name’: ‘sachin’, ‘age’: 24, ‘language’: ‘python’} - DICTIONARY"
   ]
  }
 ],
 "metadata": {
  "kernelspec": {
   "display_name": "Python 3 (ipykernel)",
   "language": "python",
   "name": "python3"
  },
  "language_info": {
   "codemirror_mode": {
    "name": "ipython",
    "version": 3
   },
   "file_extension": ".py",
   "mimetype": "text/x-python",
   "name": "python",
   "nbconvert_exporter": "python",
   "pygments_lexer": "ipython3",
   "version": "3.10.9"
  }
 },
 "nbformat": 4,
 "nbformat_minor": 5
}
