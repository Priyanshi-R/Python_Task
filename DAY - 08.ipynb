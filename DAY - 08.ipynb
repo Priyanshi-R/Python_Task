{
 "cells": [
  {
   "cell_type": "markdown",
   "id": "2c551efe",
   "metadata": {},
   "source": [
    "## DAY-08"
   ]
  },
  {
   "cell_type": "markdown",
   "id": "876b80a5",
   "metadata": {},
   "source": [
    "Q1)What are the two values of the Boolean data type? How do you write them?"
   ]
  },
  {
   "cell_type": "markdown",
   "id": "ae336637",
   "metadata": {},
   "source": [
    "There are the two values of the Boolean data type, either 'True' or 'False'.<BR>\n",
    "    True: Represents the logical value for true.<BR>\n",
    "    False: Represents the logical value for false."
   ]
  },
  {
   "cell_type": "code",
   "execution_count": 1,
   "id": "46826d6d",
   "metadata": {},
   "outputs": [
    {
     "name": "stdout",
     "output_type": "stream",
     "text": [
      "Take an umbrella.\n"
     ]
    }
   ],
   "source": [
    "\n",
    "is_raining = True\n",
    "is_sunny = False\n",
    "if is_raining:\n",
    "    print(\"Take an umbrella.\")\n",
    "else:\n",
    "    print(\"Enjoy the sunshine.\")\n"
   ]
  },
  {
   "cell_type": "markdown",
   "id": "998b1c0e",
   "metadata": {},
   "source": [
    "Q2)What are the three Boolean operators? "
   ]
  },
  {
   "cell_type": "markdown",
   "id": "5f177bf3",
   "metadata": {},
   "source": [
    "1.and Operator:\n",
    "\n",
    "    The and operator returns True if both operands or expressions are True, and False otherwise.\n",
    "    It performs a logical AND operation on the operands.\n",
    "    \n",
    "2.or Operator:\n",
    "\n",
    "    The or operator returns True if at least one of the operands or expressions is True, and False if both operands are False.\n",
    "    It performs a logical OR operation on the operands.\n",
    "    \n",
    "3.not Operator:\n",
    "\n",
    "    The not operator is a unary operator that negates the value of the operand.\n",
    "    It returns True if the operand is False, and False if the operand is True.    "
   ]
  },
  {
   "cell_type": "markdown",
   "id": "da1a20e2",
   "metadata": {},
   "source": [
    "Q3)Write out the truth tables of each Boolean operator (that is, every possible combination of Boolean values for the operator and what they evaluate to). "
   ]
  },
  {
   "cell_type": "markdown",
   "id": "798b8810",
   "metadata": {},
   "source": [
    " 1.and Operator Truth Table:\n",
    "\n",
    "Operand 1\tOperand 2\tResult\n",
    "False\t    False\t    False\n",
    "False\t    True\t    False\n",
    "True\t    False\t    False\n",
    "True\t    True\t    True\n",
    "\n",
    " 2.or Operator Truth Table:\n",
    "\n",
    "Operand 1\tOperand 2\tResult\n",
    "False\t    False\t    False\n",
    "False\t    True\t    True\n",
    "True\t    False\t    True\n",
    "True\t    True\t    True\n",
    "\n",
    " 3.not Operator Truth Table:\n",
    "\n",
    "Operand\tResult\n",
    "False\tTrue\n",
    "True\tFalse"
   ]
  },
  {
   "cell_type": "markdown",
   "id": "4d88e538",
   "metadata": {},
   "source": [
    "Q3)What do the following expressions evaluate to? \n",
    "\n",
    "(5 > 4) and (3 == 5) \n",
    "\n",
    "not (5 > 4) \n",
    "\n",
    "(5 > 4) or (3 == 5) \n",
    "\n",
    "not ((5 > 4) or (3 == 5)) \n",
    "\n",
    "(True and True) and (True == False) \n",
    "\n",
    "(not False) or (not True)"
   ]
  },
  {
   "cell_type": "markdown",
   "id": "77cb1d2d",
   "metadata": {},
   "source": [
    "(5 > 4) and (3 == 5):\n",
    "\n",
    "    The expression (5 > 4) evaluates to True because 5 is indeed greater than 4.\n",
    "    The expression (3 == 5) evaluates to False because 3 is not equal to 5.\n",
    "    The and operator returns True only if both operands are True.\n",
    "    Therefore, the overall expression evaluates to False.\n",
    "\n",
    "not (5 > 4):\n",
    "\n",
    "    The expression (5 > 4) evaluates to True.\n",
    "    The not operator negates the value of the operand.\n",
    "    Therefore, the overall expression evaluates to False.\n",
    "\n",
    "(5 > 4) or (3 == 5):\n",
    "\n",
    "    The expression (5 > 4) evaluates to True.\n",
    "    The expression (3 == 5) evaluates to False.\n",
    "    The or operator returns True if at least one of the operands is True.\n",
    "    Therefore, the overall expression evaluates to True.\n",
    "\n",
    "not ((5 > 4) or (3 == 5)):\n",
    "\n",
    "    The expression (5 > 4) or (3 == 5) evaluates to True.\n",
    "    The not operator negates the value of the operand.\n",
    "    Therefore, the overall expression evaluates to False.\n",
    "\n",
    "(True and True) and (True == False):\n",
    "\n",
    "    The expression True and True evaluates to True.\n",
    "    The expression True == False evaluates to False because True is not equal to False.\n",
    "    The and operator returns True only if both operands are True.\n",
    "    Therefore, the overall expression evaluates to False.\n",
    "\n",
    "(not False) or (not True):\n",
    "\n",
    "    The expression not False evaluates to True because the not operator negates the value of False.\n",
    "    The expression not True evaluates to False because the not operator negates the value of True.\n",
    "    "
   ]
  },
  {
   "cell_type": "markdown",
   "id": "ff96db45",
   "metadata": {},
   "source": [
    "Q4) What are the six comparison operators?"
   ]
  },
  {
   "cell_type": "markdown",
   "id": "4ea90e8b",
   "metadata": {},
   "source": [
    "1.Equal to (==):\n",
    "\n",
    "    Checks if the operands are equal.\n",
    "    Example: x == y returns True if x is equal to y, and False otherwise.\n",
    "\n",
    "2.Not equal to (!=):\n",
    "\n",
    "    Checks if the operands are not equal.\n",
    "    Example: x != y returns True if x is not equal to y, and False otherwise.\n",
    "\n",
    "3.Greater than (>):\n",
    "\n",
    "    Checks if the left operand is greater than the right operand.\n",
    "    Example: x > y returns True if x is greater than y, and False otherwise.\n",
    "\n",
    "4.Less than (<):\n",
    "\n",
    "    Checks if the left operand is less than the right operand.\n",
    "    Example: x < y returns True if x is less than y, and False otherwise.\n",
    "        \n",
    "5.Greater than or equal to (>=):\n",
    "\n",
    "    Checks if the left operand is greater than or equal to the right operand.\n",
    "    Example: x >= y returns True if x is greater than or equal to y, and False otherwise.\n",
    "\n",
    "6.Less than or equal to (<=):\n",
    "\n",
    "    Checks if the left operand is less than or equal to the right operand.\n",
    "    Example: x <= y returns True if x is less than or equal to y, and False otherwise.        "
   ]
  },
  {
   "cell_type": "markdown",
   "id": "fa5bc94a",
   "metadata": {},
   "source": [
    "Q5)What is the difference between the equal to operator and the assignment operator? "
   ]
  },
  {
   "cell_type": "markdown",
   "id": "c0110c4e",
   "metadata": {},
   "source": [
    "    1.Equal to Operator (==):\n",
    "        The equal to operator is a comparison operator used to check if two values are equal.\n",
    "        It compares the values on the left and right sides of the operator and returns True if they are equal, and False otherwise.\n",
    "        Example: x == y compares the values of x and y and returns True if they are equal, and False otherwise.\n",
    "\n",
    "    2.Assignment Operator (=):\n",
    "        The assignment operator is used to assign a value to a variable.\n",
    "        It assigns the value on the right side of the operator to the variable on the left side.\n",
    "        Example: x = y assigns the value of y to the variable x."
   ]
  },
  {
   "cell_type": "markdown",
   "id": "61ddb4f0",
   "metadata": {},
   "source": [
    "Q5)Explain what a condition is and where you would use one? "
   ]
  },
  {
   "cell_type": "markdown",
   "id": "97a8184f",
   "metadata": {},
   "source": [
    " A condition refers to a statement or expression that evaluates to either true or false. It is used to control the flow of a program by determining whether a certain block of code should be executed or not based on the outcome of the condition.<BR>\n",
    "\n",
    "Conditions are typically used in conditional statements, such as if statements, while loops, and for loops, to make decisions and control the execution of code based on specific criteria. The condition acts as a logical test, and the code block associated with the condition is executed only if the condition evaluates to true."
   ]
  },
  {
   "cell_type": "code",
   "execution_count": null,
   "id": "9f9ed722",
   "metadata": {},
   "outputs": [],
   "source": []
  }
 ],
 "metadata": {
  "kernelspec": {
   "display_name": "Python 3 (ipykernel)",
   "language": "python",
   "name": "python3"
  },
  "language_info": {
   "codemirror_mode": {
    "name": "ipython",
    "version": 3
   },
   "file_extension": ".py",
   "mimetype": "text/x-python",
   "name": "python",
   "nbconvert_exporter": "python",
   "pygments_lexer": "ipython3",
   "version": "3.10.9"
  }
 },
 "nbformat": 4,
 "nbformat_minor": 5
}
