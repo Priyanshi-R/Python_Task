{
 "cells": [
  {
   "cell_type": "markdown",
   "id": "6f455ecd",
   "metadata": {},
   "source": [
    "### **DAY - 09**"
   ]
  },
  {
   "cell_type": "markdown",
   "id": "2b2a8518",
   "metadata": {},
   "source": [
    "Q1) Write a Python program to check whether a number is negative, positive or zero? "
   ]
  },
  {
   "cell_type": "code",
   "execution_count": 3,
   "id": "cd064f42",
   "metadata": {},
   "outputs": [
    {
     "name": "stdout",
     "output_type": "stream",
     "text": [
      "Please enter the number to check whether it is negative,positive or zero?0\n",
      "Zero\n"
     ]
    }
   ],
   "source": [
    "num = int(input(\"Please enter the number to check whether it is negative,positive or zero?\"))\n",
    "if(num < 0):\n",
    "    print(f\"{num} is negative\")\n",
    "elif(num>0):\n",
    "    print(f\"{num} is positive\")\n",
    "else:\n",
    "    print(\"Zero\") "
   ]
  },
  {
   "cell_type": "markdown",
   "id": "81aa9dd7",
   "metadata": {},
   "source": [
    "Q2)Write a Python program to check whether a number is divisible by 5 and 11 or not?"
   ]
  },
  {
   "cell_type": "code",
   "execution_count": 5,
   "id": "6ab7c743",
   "metadata": {},
   "outputs": [
    {
     "name": "stdout",
     "output_type": "stream",
     "text": [
      "enter the number to check whether it is divisible by 5 and 11 or not?76\n",
      "76 is not divisible by 5 and 11\n"
     ]
    }
   ],
   "source": [
    "num = int(input(\"enter the number to check whether it is divisible by 5 and 11 or not?\"))\n",
    "if(num%5 == 0 and num%11 == 0):\n",
    "    print(f\"{num} is divisible by 5 and 11\")\n",
    "else:\n",
    "    print(f\"{num} is not divisible by 5 and 11\")"
   ]
  },
  {
   "cell_type": "markdown",
   "id": "352f8ebf",
   "metadata": {},
   "source": [
    "Q3)Write a Python program to check whether a year is leap year or not?"
   ]
  },
  {
   "cell_type": "code",
   "execution_count": 9,
   "id": "efe13939",
   "metadata": {},
   "outputs": [
    {
     "name": "stdout",
     "output_type": "stream",
     "text": [
      "enter the year to check it is leap year or not?2000\n",
      "2000 is leap year\n"
     ]
    }
   ],
   "source": [
    "year = int(input(\"enter the year to check it is leap year or not?\"))\n",
    "if(((year % 4 == 0) and (year % 100 != 0)) or (year % 400 == 0)):\n",
    "    print(f\"{year} is leap year\")\n",
    "else:\n",
    "    print(f\"{year} is not leap year\")"
   ]
  },
  {
   "cell_type": "markdown",
   "id": "479f8df0",
   "metadata": {},
   "source": [
    "Q4)Write a Python program to check whether a character is alphabet or not?"
   ]
  },
  {
   "cell_type": "code",
   "execution_count": 10,
   "id": "f093e49a",
   "metadata": {},
   "outputs": [
    {
     "name": "stdout",
     "output_type": "stream",
     "text": [
      "enter a character to check it is alphabet or not?S\n",
      "S is an alphabet\n"
     ]
    }
   ],
   "source": [
    "ch = input(\"enter a character to check it is alphabet or not?\")\n",
    "if ch>='a' and ch<='z':\n",
    "    print(f\"{ch} is an alphabet\")\n",
    "elif ch>='A' and ch<='z':\n",
    "    print(f\"{ch} is an alphabet\")\n",
    "else:\n",
    "    print(f\"{ch} is not an alphabet!\")"
   ]
  },
  {
   "cell_type": "markdown",
   "id": "12889d23",
   "metadata": {},
   "source": [
    "Q5)Write a Python program to input any alphabet and check whether it is vowel or consonant?"
   ]
  },
  {
   "cell_type": "code",
   "execution_count": 14,
   "id": "e208a2e7",
   "metadata": {},
   "outputs": [
    {
     "name": "stdout",
     "output_type": "stream",
     "text": [
      "enter a alphabet to check whether it is vowel or consonant? u\n",
      "Vowel\n"
     ]
    }
   ],
   "source": [
    " x = input(\"enter a alphabet to check whether it is vowel or consonant? \")\n",
    "if (x == 'a' or x == 'e' or\n",
    "        x == 'i' or x == 'o' or x == 'u'):\n",
    "        print(\"Vowel\")\n",
    "else:\n",
    "        print(\"Consonant\")"
   ]
  },
  {
   "cell_type": "markdown",
   "id": "b7be7907",
   "metadata": {},
   "source": [
    "Q6)Write a Python program to input any character and check whether it is alphabet, digit or special character?"
   ]
  },
  {
   "cell_type": "code",
   "execution_count": 15,
   "id": "97b4cfa8",
   "metadata": {},
   "outputs": [
    {
     "name": "stdout",
     "output_type": "stream",
     "text": [
      "Please Enter Your Own Character : 6\n",
      "The Given Character  6 is a Digit\n"
     ]
    }
   ],
   "source": [
    "ch = input(\"Please Enter Your Own Character : \")\n",
    "\n",
    "if((ch >= 'a' and ch <= 'z') or (ch >= 'A' and ch <= 'Z')): \n",
    "    print(\"The Given Character \", ch, \"is an Alphabet\") \n",
    "elif(ch >= '0' and ch <= '9'):\n",
    "    print(\"The Given Character \", ch, \"is a Digit\")\n",
    "else:\n",
    "    print(\"The Given Character \", ch, \"is a Special Character\")"
   ]
  },
  {
   "cell_type": "markdown",
   "id": "9b26de74",
   "metadata": {},
   "source": [
    "Q7)Write a Python program to check whether a character is uppercase or lowercase alphabet?"
   ]
  },
  {
   "cell_type": "code",
   "execution_count": 16,
   "id": "0c00ab64",
   "metadata": {},
   "outputs": [
    {
     "name": "stdout",
     "output_type": "stream",
     "text": [
      "Please Enter Your Own Character : a\n",
      "The Given Character  a is a Lowercase Alphabet\n"
     ]
    }
   ],
   "source": [
    "ch = input(\"Please Enter Your Own Character : \")\n",
    "\n",
    "if(ch.isupper()):\n",
    "    print(\"The Given Character \", ch, \"is an Uppercase Alphabet\")\n",
    "elif(ch.islower()):\n",
    "    print(\"The Given Character \", ch, \"is a Lowercase Alphabet\")\n",
    "else:\n",
    "    print(\"The Given Character \", ch, \"is Not a Lower or Uppercase Alphabet\")"
   ]
  },
  {
   "cell_type": "markdown",
   "id": "8d650807",
   "metadata": {},
   "source": [
    "Q8)Write a Python program to input week number and print weekday?"
   ]
  },
  {
   "cell_type": "code",
   "execution_count": 17,
   "id": "4ab19a47",
   "metadata": {},
   "outputs": [
    {
     "name": "stdout",
     "output_type": "stream",
     "text": [
      "Enter weekday number (1-7) : 5\n",
      "\n",
      "Friday\n"
     ]
    }
   ],
   "source": [
    "weekday = int(input(\"Enter weekday number (1-7) : \"))\n",
    "\n",
    "if weekday == 1 :\n",
    "    print(\"\\nMonday\");\n",
    "\n",
    "elif weekday == 2 :\n",
    "    print(\"\\nTuesday\")\n",
    "\n",
    "elif(weekday == 3) :\n",
    "    print(\"\\nWednesday\")\n",
    "\n",
    "elif(weekday == 4) :\n",
    "    print(\"\\nThursday\")\n",
    "\n",
    "elif(weekday == 5) :\n",
    "    print(\"\\nFriday\")\n",
    "\n",
    "elif(weekday == 6) :\n",
    "    print(\"\\nSaturday\")\n",
    "\n",
    "elif (weekday == 7) :\n",
    "    print(\"\\nSunday\")\n",
    "else:\n",
    "    print(\"Entered number is not a weekdays.\")"
   ]
  },
  {
   "cell_type": "markdown",
   "id": "2d440eb7",
   "metadata": {},
   "source": [
    "Q9)Write a Python program to input angles of a triangle and check whether triangle is valid or not?"
   ]
  },
  {
   "cell_type": "code",
   "execution_count": 20,
   "id": "abd6c3a4",
   "metadata": {},
   "outputs": [
    {
     "name": "stdout",
     "output_type": "stream",
     "text": [
      "Please Enter the First Angle of a Triangle: 50\n",
      "Please Enter the Second Angle of a Triangle: 80\n",
      "Please Enter the Third Angle of a Triangle: 70\n",
      "\n",
      "This is an Invalid Triangle\n"
     ]
    }
   ],
   "source": [
    "a = int(input('Please Enter the First Angle of a Triangle: '))\n",
    "b = int(input('Please Enter the Second Angle of a Triangle: '))\n",
    "c = int(input('Please Enter the Third Angle of a Triangle: '))\n",
    "total = a + b + c\n",
    "if total == 180:\n",
    "    print(\"\\nThis is a Valid Triangle\")\n",
    "else:\n",
    "    print(\"\\nThis is an Invalid Triangle\")"
   ]
  },
  {
   "cell_type": "markdown",
   "id": "0daa27fb",
   "metadata": {},
   "source": [
    "Q10)Write a Python program to input all sides of a triangle and check whether triangle is valid or not?"
   ]
  },
  {
   "cell_type": "code",
   "execution_count": 19,
   "id": "fa23e6dd",
   "metadata": {},
   "outputs": [
    {
     "name": "stdout",
     "output_type": "stream",
     "text": [
      "Enter the Triangle Side-1 :80\n",
      "Enter the Triangle Side-2 :80\n",
      "Enter the Triangle Side-3 :20\n",
      "Triangle Valid..\n"
     ]
    }
   ],
   "source": [
    "s1 = int(input(\"Enter the Triangle Side-1 :\"))\n",
    "s2 = int(input(\"Enter the Triangle Side-2 :\"))\n",
    "s3 = int(input(\"Enter the Triangle Side-3 :\"))\n",
    "sum = s1+s2+s3\n",
    "if(sum==180):\n",
    "    print(\"Triangle Valid..\")\n",
    "else:\n",
    "    print(\"Triangle Not Valid..\")"
   ]
  },
  {
   "cell_type": "markdown",
   "id": "d59bb4ef",
   "metadata": {},
   "source": [
    "Q11)Write a Python program to check whether the triangle is equilateral, isosceles or scalene triangle?"
   ]
  },
  {
   "cell_type": "code",
   "execution_count": 21,
   "id": "f9420216",
   "metadata": {},
   "outputs": [
    {
     "name": "stdout",
     "output_type": "stream",
     "text": [
      "Input lengths of the triangle sides: \n",
      "x: 20\n",
      "y: 20\n",
      "z: 20\n",
      "Equilateral triangle\n"
     ]
    }
   ],
   "source": [
    "print(\"Input lengths of the triangle sides: \")\n",
    "x = int(input(\"x: \"))\n",
    "y = int(input(\"y: \"))\n",
    "z = int(input(\"z: \"))\n",
    "\n",
    "if x == y == z:\n",
    "    print(\"Equilateral triangle\")\n",
    "elif x==y or y==z or z==x:\n",
    "    print(\"isosceles triangle\")\n",
    "else:\n",
    "    print(\"Scalene triangle\")"
   ]
  },
  {
   "cell_type": "markdown",
   "id": "9fe43eb2",
   "metadata": {},
   "source": [
    "Q12)Write a Python program to input marks of five subjects Physics, Chemistry, Biology, Mathematics and Computer. Calculate percentage and grade according to following:<br>  \n",
    "\n",
    "                   Percentage >= 90% : Grade A<br> \n",
    "\n",
    "                   Percentage >= 80% : Grade B<br>  \n",
    "\n",
    "                   Percentage >= 70% : Grade C<br>  \n",
    "\n",
    "                   Percentage >= 60% : Grade D<br>  \n",
    "\n",
    "                   Percentage >= 40% : Grade E<br>  \n",
    "\n",
    "                   Percentage < 40% : Grade F <br>"
   ]
  },
  {
   "cell_type": "code",
   "execution_count": 23,
   "id": "b4fab54c",
   "metadata": {},
   "outputs": [
    {
     "name": "stdout",
     "output_type": "stream",
     "text": [
      "Enter marks of the first subject: 90\n",
      "Enter marks of the second subject: 89\n",
      "Enter marks of the third subject: 79\n",
      "Enter marks of the fourth subject: 69\n",
      "Enter marks of the fifth subject: 75\n",
      "Grade: C\n"
     ]
    }
   ],
   "source": [
    "sub1=int(input(\"Enter marks of the first subject: \"))\n",
    "sub2=int(input(\"Enter marks of the second subject: \"))\n",
    "sub3=int(input(\"Enter marks of the third subject: \"))\n",
    "sub4=int(input(\"Enter marks of the fourth subject: \"))\n",
    "sub5=int(input(\"Enter marks of the fifth subject: \"))\n",
    "avg=(sub1+sub2+sub3+sub4+sub4)/5\n",
    "if(avg>=90):\n",
    "    print(\"Grade: A\")\n",
    "elif(avg>=80 and avg<90):\n",
    "    print(\"Grade: B\")\n",
    "elif(avg>=70 and avg<80):\n",
    "    print(\"Grade: C\")\n",
    "elif(avg>=60 and avg<70):\n",
    "    print(\"Grade: D\")\n",
    "else:\n",
    "    print(\"Grade: F\")"
   ]
  },
  {
   "cell_type": "markdown",
   "id": "9309a46f",
   "metadata": {},
   "source": [
    "Q13)Write a Python program to input basic salary of an employee and calculate its Gross salary according to following:<BR>  \n",
    "\n",
    "                Basic Salary <= 10000 : HRA = 20%, DA = 80%  \n",
    "\n",
    "                Basic Salary <= 20000 : HRA = 25%, DA = 90%  \n",
    "\n",
    "                Basic Salary > 20000 : HRA = 30%, DA = 95% "
   ]
  },
  {
   "cell_type": "code",
   "execution_count": 24,
   "id": "87df0d5f",
   "metadata": {},
   "outputs": [
    {
     "name": "stdout",
     "output_type": "stream",
     "text": [
      "Enter basic salary?25000\n",
      "gross salary is 56250.0\n"
     ]
    }
   ],
   "source": [
    "basic = float(input(\"Enter basic salary?\"))\n",
    "if basic<=10000:\n",
    "    da = basic*0.8\n",
    "    hra = basic*0.2\n",
    "elif basic<=20000:\n",
    "    da = basic*0.9\n",
    "    hra = basic*0.25\n",
    "else:\n",
    "    da = basic*0.95\n",
    "    hra = basic*0.3\n",
    "gross = basic+da+hra\n",
    "print(f\"gross salary is {gross}\")"
   ]
  },
  {
   "cell_type": "markdown",
   "id": "ceba4bdb",
   "metadata": {},
   "source": [
    "Q14)Write a Python Program to input electricity unit charges and calculate total electricity bill according to the given condition:<br>  \n",
    "\n",
    "For first 50 units Rs. 0.50/unit \n",
    "For next 100 units Rs. 0.75/unit \n",
    "For next 100 units Rs. 1.20/unit \n",
    "For unit above 250 Rs. 1.50/unit \n",
    "An additional surcharge of 20% is added to the bill"
   ]
  },
  {
   "cell_type": "code",
   "execution_count": 25,
   "id": "79f2fada",
   "metadata": {},
   "outputs": [
    {
     "name": "stdout",
     "output_type": "stream",
     "text": [
      "enter total unit consumed?140\n",
      "total electricity bill is 111.0\n"
     ]
    }
   ],
   "source": [
    "unit = int(input(\"enter total unit consumed?\"))\n",
    "total = subcharge = amount =0\n",
    "if unit<= 50:\n",
    "    amount = unit*0.5\n",
    "elif unit<= 150:\n",
    "    amount = 25 +(unit - 50)*0.75\n",
    "elif unit<=250:\n",
    "    amount = 100 + (unit - 150)*1.20\n",
    "else:\n",
    "    amount = 220 + (unit - 250)*1.50\n",
    "subcharge = amount*20/100\n",
    "total = amount + subcharge\n",
    "print(f\"total electricity bill is {total}\")   "
   ]
  }
 ],
 "metadata": {
  "kernelspec": {
   "display_name": "Python 3 (ipykernel)",
   "language": "python",
   "name": "python3"
  },
  "language_info": {
   "codemirror_mode": {
    "name": "ipython",
    "version": 3
   },
   "file_extension": ".py",
   "mimetype": "text/x-python",
   "name": "python",
   "nbconvert_exporter": "python",
   "pygments_lexer": "ipython3",
   "version": "3.10.9"
  }
 },
 "nbformat": 4,
 "nbformat_minor": 5
}
